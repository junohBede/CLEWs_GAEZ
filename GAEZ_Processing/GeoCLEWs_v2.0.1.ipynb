{
 "cells": [
  {
   "cell_type": "markdown",
   "id": "90debf4d-bcea-4601-9561-f01f1c1abb01",
   "metadata": {},
   "source": [
    "# GeoCLEWs\n",
    "\n",
    "**Revised code:** [Yalda Saedi](https://github.com/Ysaedi) <br />\n",
    "**Supervision:** [Taco Niet](https://github.com/tniet) <br />\n",
    "**Funding** [Mitacs](https://www.mitacs.ca/en) and [Catalyste+](https://www.catalysteplus.org/)\n",
    "\n",
    "---------------------------"
   ]
  },
  {
   "cell_type": "markdown",
   "id": "92b284c8-8e21-4b92-a3c6-8cb6f46b09ac",
   "metadata": {
    "jp-MarkdownHeadingCollapsed": true,
    "tags": []
   },
   "source": [
    "## Summary\n",
    "\n",
    "GeoCLEWs is a versatile open-source script that offers a wide range of useful features for both developers and users. The script streamlines the detailed land and water processing steps required for Climate Land Energy Water systems (CLEWs) modelling. It is designed to efficiently collect, modify, and process  high-resolution land and water data from Global Agro-ecological Zones (GAEZ v4) database in an automated manner. GeoCLEWs processes agro-climatic potential yield, crop water deficit, crop evapotranspiration, precipitation, and land cover datasets.\n",
    "\n",
    "\n",
    "This notebook builds upon the [CLEWs GIS Processing notbook](https://github.com/akorkovelos/un-clews-gis-work/blob/main/CLEWs%20GIS%20Processing.ipynb), developed by [Alexandros Korkovelos](https://github.com/akorkovelos), under the supervision of [Abhishek Shivakumar](https://github.com/abhishek0208) & Thomas Alfstad. Please note that the original notebook is currently non-functional due to its incompatibility with the latest version of the GAEZ database. Although the original code served as a valuable starting point, it has undergone significant revisions and improvements:\n",
    "\n",
    "- Utilizing high-resolution GAEZ v4 datasets to detail land and water systems.\n",
    "- Implementing customized geographical aggregation and Agglomerative Hierarchical clustering to capture cross-regional interdependencies and streamline computational complexity.\n",
    "- Automating data collection, preparation, processing, and result generation for diverse geographical regions, reducing manual effort and minimizing human errors in WEF assessment tasks.\n",
    "- Generating clewsy-compatible outputs.\n",
    "\n",
    "At the beginning of the script, users can input and tailor the configuration to align with their project's unique requirements. Once the necessary inputs are provided, GeoCLEWs will automatically execute the subsequent steps, including the data collection from FAOSTAT (Food and Agriculture Organization of the United Nation) and retrieving high-resolution raster files from GAEZ v4. Additionally, it implements geographical and spatial clustering to detect cross-regional agro-ecological similarities and generate detailed land and water statistics.\n",
    "\n",
    "This notebook performs six main analytical processes:\n",
    "\n",
    "- **Part 1**: Initialization and configuration.\n",
    "- **Part 2**: FAOSTAT and GAEZ data collection and preparation.\n",
    "- **Part 3**: Generating land cells.\n",
    "- **Part 4**: Geospatial attributes extraction to land cells.\n",
    "- **Part 5**: Spatial clustering using agglomerative hierarchical clustering\n",
    "- **Part 6**: Calculating key summary statistics generate outputs for further use in CLEWs modelling.\n",
    "\n",
    "Each part below is accompanied by a more detailed explanation of the involved processing steps."
   ]
  },
  {
   "cell_type": "markdown",
   "id": "ab101e01-c6bf-4b77-99e5-910e9ae18fa8",
   "metadata": {},
   "source": [
    "# Part 1 : Initialization and Configuration"
   ]
  },
  {
   "cell_type": "markdown",
   "id": "01861b68-0cdf-43e9-9c0b-cecb40a9f10f",
   "metadata": {},
   "source": [
    "# 1.1. Importing Essential Modules \n",
    "\n",
    "To begin, it is necessary to import the required modules/libraries. For more information on the environment setup, please consult the README file. "
   ]
  },
  {
   "cell_type": "code",
   "execution_count": 1,
   "id": "31f824aa-63ba-4997-a0eb-907ec5ff1397",
   "metadata": {},
   "outputs": [],
   "source": [
    "# Importing necessary Python modules or libraries\n",
    "\n",
    "# Numerical\n",
    "import numpy as np\n",
    "import pandas as pd\n",
    "import requests\n",
    "\n",
    "# Spatial\n",
    "import geopandas as gpd\n",
    "import rasterio\n",
    "from rasterstats import zonal_stats\n",
    "#from geojson import Feature, Point, FeatureCollection\n",
    "import json\n",
    "from shapely.geometry import Polygon, Point\n",
    "# import gdal\n",
    "from pyproj import CRS\n",
    "from rasterio.mask import mask\n",
    "from scipy.cluster.hierarchy import dendrogram, linkage, fcluster\n",
    "from sklearn.cluster import AgglomerativeClustering\n",
    "import shutil as sh\n",
    "\n",
    "#Plotting\n",
    "import ipywidgets\n",
    "# import plotly.graph_objects as go\n",
    "# import plotly.express as px\n",
    "from IPython.display import display, Markdown, HTML\n",
    "import matplotlib.pyplot as plt\n",
    "%matplotlib inline\n",
    "import warnings\n",
    "from sklearn.cluster import KMeans\n",
    "\n",
    "# System & Other\n",
    "import time\n",
    "import os\n",
    "import datetime\n",
    "start_time = time.time()\n"
   ]
  },
  {
   "cell_type": "markdown",
   "id": "0cab4915-29d8-4108-af4f-ac255d7e8ce2",
   "metadata": {},
   "source": [
    "# 1.2. User Configuration  \n",
    "This is the only part where the user needs to input values. The rest of the process will be automatically run based on the provided inputs. The code is designed with flexibility, allowing users to make changes and take advantage of customized settings at any time during the execution.\n"
   ]
  },
  {
   "cell_type": "code",
   "execution_count": 2,
   "id": "fa940d56-693b-4975-b23a-16ecb9cd5b8f",
   "metadata": {},
   "outputs": [],
   "source": [
    "# Provide specifications for the project \n",
    "\n",
    "Full_name = \"Guyana\"                   # Specify the full name of the country you wish to analyze (e.g. Kenya).\n",
    "\n",
    "RCP = \"RCP4.5\"                        # Choose your preferred RCP (Representative Concentration Pathway) from the available options: RCP2.6, RCP4.5, RCP6.0, RCP8.5.\n",
    "\n",
    "\n",
    "admin_level = 0                       # 0 for national processing, admin level 0.\n",
    "                                      # 1 for processing at admin level 1.\n",
    "\n",
    "\n",
    "#Aggregating regions based on administrative boundaries    \n",
    "aggregate = False                      # If the admin_level is 1 or higher, you can select specific regions, group them together, and generate Agro-Ecological statistics for these regions as a single aggregated area.                            \n",
    "                                      # It is crucial that the administrative boundary of the selected regions matches the specified admin_level and input shapefile. \n",
    "                                      # Set \"False\" to disable aggregation and \"True\" to enable aggregation.\n",
    "aggregate_region = [\"TAI\", \"TUR\"]      # To select regions for aggregation, input the first 3 letters of each region's name, e.g., \"TAI\" for Taita Taveta county and \"TUR\" for Turkana county in Kenya, which can be grouped if admin_level=1.\n",
    "                      \n",
    "                                      #Aggregated regions are represented by the Grouped Region Cluster (GRC).\n",
    "\n",
    "                         \n",
    "scenario = 'jupy'\n",
    "\n",
    "## Coordinate and projection systems\n",
    "crs_WGS84 = CRS(\"EPSG:4326\")          # For the analysis, the original WGS84 coordinate system is used. \n",
    "crs_proj = CRS(\"EPSG:24821\")          # Please provide proper projection system based on the geographical location of the selected country. \n",
    "                                      # In this example EPSG 21037 refers to a specific projection system called the \"Kenya Mapping Grid\".\n",
    "                                      # More info: http://epsg.io/ "
   ]
  },
  {
   "cell_type": "markdown",
   "id": "3000898b-3778-4094-865d-c7ceb61adda5",
   "metadata": {},
   "source": [
    "## 1.3. Directory Initialization and Structure\n",
    "\n",
    "For easier replication of the code you may used the following directory structure:\n",
    "\n",
    "* **~root/Data/input**    (a directory where your input data)\n",
    "* **~root/global_raster_input**   (directory for GAEZ raster layers with global coverage.  Precipitation and land cover rasters have already downloaded in the global_raster_input while agro-climatic potential yield, crop water deficit, and crop evapotranspiration with global coverage will be downloaded automatically in the following steps based on user input)\n",
    "* **~root/cropped_raster_input** (a directory for cropped GAEZ global raster data based on administraty boundry of selected country to reduce computational complexity)\n",
    "\n",
    "Results will be store in two automatically generated directories:\n",
    "* **~root/Data/output**   (directory for general output)\n",
    "* **~root/Data/output/summary_stats**   (a directory where the tabular outputs data and graphs are stored)\n",
    "\n",
    "**Note!** In case you decide to use a different structure please revise the code below."
   ]
  },
  {
   "cell_type": "code",
   "execution_count": 3,
   "id": "635483db-29f4-408a-89c2-f007b3896d1f",
   "metadata": {},
   "outputs": [],
   "source": [
    "# Directories\n",
    "\n",
    "GLOBAL_RASTER_PATH = \"./Data/interim_output/global_raster_input\"\n",
    "CROPPED_RASTER_PATH = \"./Data/interim_output/cropped_raster_input\"\n",
    "INPUT_DATA_PATH = \"./Data/input\"\n",
    "OUTPUT_DATA_PATH = \"./Data/output\"\n",
    "INTERIM_DATA_PATH = \"./Data/interim_output\"\n",
    "USER_INPUTS_PATH = \"./user_input\"\n",
    "SHAPEFILE_PATH = \"./user_input/shapefile\"\n",
    "\n",
    "def initialize_directories(scenario):\n",
    "    do = f\"{OUTPUT_DATA_PATH}/{scenario}/\"\n",
    "    paths = ['Data/interim_output', GLOBAL_RASTER_PATH, CROPPED_RASTER_PATH, do, f'{do}summary_stats',\n",
    "             f\"{do}dendrogram_graph\", f'{do}elbow_graph', f'{do}spatial_clustering']\n",
    "    # Initialize output paths for data\n",
    "    for output_path_raw in paths:\n",
    "        output_path = f\"{output_path_raw}\"\n",
    "        if not os.path.exists(output_path):\n",
    "            try:\n",
    "                os.makedirs(output_path)\n",
    "            except OSError as exc:\n",
    "                if exc.errno != errno.EEXIST:\n",
    "                    raise\n",
    "out_path = OUTPUT_DATA_PATH + \"/\" + scenario\n",
    "out_path_clustering = out_path + \"/\" + \"spatial_clustering\"\n",
    "summary_stats_path = out_path + \"/\" + \"summary_stats\"\n",
    "out_path_dendrogram =out_path + \"/\" + \"dendrogram_graph\"\n",
    "out_path_elbow = out_path + \"/\" + \"elbow_graph\"\n",
    "initialize_directories(scenario)\n",
    "\n",
    "# 3 letter ISO code of the selected country\n",
    "code = pd.read_csv('Data/Country_code.csv')                            # More info: https://www.nationsonline.org/oneworld/country_code_list.htm\n",
    "code_name = code[code['Full_name']== Full_name]\n",
    "country_name = code_name.iloc[0]['country_code']            \n",
    "            \n",
    "# supporting vector point name\n",
    "shp_nm = f\"gadm41_{country_name}_{admin_level}.shp\"\n",
    "    \n",
    "#administrative boundary\n",
    "admin0_nm = f'gadm41_{country_name}_0.shp'                     # administrative boundaries - national analysis\n",
    "\n",
    "# Name of final result file\n",
    "output_nm = \"{}_vector_admin{}_land_cells\".format(country_name, admin_level)\n",
    "result_nm = \"{}_vector_admin{}_land_cells_with_attributes\".format(country_name, admin_level)"
   ]
  },
  {
   "cell_type": "markdown",
   "id": "ed6d6281-1212-4337-b3be-0e4ba3b68ddc",
   "metadata": {},
   "source": [
    "# Part 2 : FAOSTAT and GAEZ Data Collection and Preparation"
   ]
  },
  {
   "cell_type": "markdown",
   "id": "d28ce500-ccda-469d-a1b7-a6a8393388dd",
   "metadata": {},
   "source": [
    "## 2.1. FAOSTAT Collection and Preparation\n",
    "Finding top 10 crops in terms of harvested area from the latest statistical database provided by Food and Agriculture Organization of the United Nations (FAOSTAT)."
   ]
  },
  {
   "cell_type": "markdown",
   "id": "ee3e109f-9191-46e1-9fd9-a982ee2abf7a",
   "metadata": {},
   "source": [
    "### 2.1.1. Retrieve Top 10 Crops"
   ]
  },
  {
   "cell_type": "code",
   "execution_count": 4,
   "id": "450780a9-1857-422e-8252-66d2ceb61481",
   "metadata": {},
   "outputs": [
    {
     "data": {
      "text/markdown": [
       " **Top 5 crops considering harvested area are:** ['Rice', 'Sugar cane', 'Coconuts, in shell', 'Plantains and cooking bananas', 'Maize (corn)']"
      ],
      "text/plain": [
       "<IPython.core.display.Markdown object>"
      ]
     },
     "metadata": {},
     "output_type": "display_data"
    },
    {
     "data": {
      "text/markdown": [
       " **Crops ranked from six to ten in the top 10 FAO dataset are:** ['Ginger, raw', 'Edible roots and tubers with high starch or inulin content, n.e.c., fresh', 'Other tropical fruits, n.e.c.', 'Cassava, fresh', 'Cocoa beans']"
      ],
      "text/plain": [
       "<IPython.core.display.Markdown object>"
      ]
     },
     "metadata": {},
     "output_type": "display_data"
    }
   ],
   "source": [
    "# Read the FAOSTAT file\n",
    "data = pd.read_csv('Data/FAOSTAT_2020.csv')\n",
    "filtered_data = data[data['Area'] == Full_name]                \n",
    "\n",
    "# Sorting based on the harvested area in descending order and get top 10 rows\n",
    "# Retrieve data according to the user-defined country\n",
    "top_10_values = filtered_data.nlargest(10, 'Value')\n",
    "all_crops = top_10_values['Item'].tolist() \n",
    "\n",
    "main_crops= all_crops[:5]\n",
    "other_crops = all_crops[5:]\n",
    "\n",
    "display(Markdown(' **Top 5 crops considering harvested area are:** {}'.format(main_crops)))\n",
    "display(Markdown(' **Crops ranked from six to ten in the top 10 FAO dataset are:** {}'.format(other_crops)))"
   ]
  },
  {
   "cell_type": "markdown",
   "id": "aa8ad3c5-a0f7-4e57-8e40-528a2a8cb7db",
   "metadata": {},
   "source": [
    "### 2.1.2. FAOSTAT Standardizing"
   ]
  },
  {
   "cell_type": "code",
   "execution_count": 5,
   "id": "ab97ea11-ad00-4abc-bf52-0edc1e14d742",
   "metadata": {},
   "outputs": [
    {
     "data": {
      "text/markdown": [
       " **Based on 3-letter naming, the main crop list from the FAOSTAT is :** ['SGC', 'CON', 'MZE', 'prc']"
      ],
      "text/plain": [
       "<IPython.core.display.Markdown object>"
      ]
     },
     "metadata": {},
     "output_type": "display_data"
    },
    {
     "data": {
      "text/markdown": [
       " **Based on 3-letter naming, additional crop list from the FAOSTAT is :** ['CAS', 'COC']"
      ],
      "text/plain": [
       "<IPython.core.display.Markdown object>"
      ]
     },
     "metadata": {},
     "output_type": "display_data"
    }
   ],
   "source": [
    "# FAO correction: 3 letter naming convention per crop considering CLEWs naming format\n",
    "\n",
    "Crop_code = pd.read_csv('Data/Crop_code.csv')\n",
    "crop_name = []  \n",
    "\n",
    "for item in main_crops:\n",
    "    matching_rows = Crop_code[Crop_code['Name']==item]\n",
    "    \n",
    "    if not matching_rows.empty:\n",
    "        crop_name.extend(matching_rows['Code'].tolist())  \n",
    "\n",
    "other_crop_name = []  \n",
    "\n",
    "for item in other_crops:\n",
    "    matching_rows = Crop_code[Crop_code['Name']==item]\n",
    "    \n",
    "    if not matching_rows.empty:\n",
    "        other_crop_name.extend(matching_rows['Code'].tolist())  \n",
    "\n",
    "\n",
    "#Adding \"prc\" refering to annual precipitation\n",
    "crop_name = crop_name + [\"prc\"]\n",
    "\n",
    "display(Markdown(' **Based on 3-letter naming, the main crop list from the FAOSTAT is :** {}'.format(crop_name)))\n",
    "display(Markdown(' **Based on 3-letter naming, additional crop list from the FAOSTAT is :** {}'.format(other_crop_name)))\n",
    "\n"
   ]
  },
  {
   "cell_type": "markdown",
   "id": "d13aae90-70c2-4696-a3aa-88c8b07cad75",
   "metadata": {},
   "source": [
    "## 2.2. GAEZ Data Collection and Preparation\n",
    "\n",
    "GeoCLEWs collects TIFF data from the Global Agro-Ecological Zones data portal for the following variables: agro-climatic potential yield, crop water deficit, and crop evapotranspiration. Precipitation, and land cover have already downloaded in the directory."
   ]
  },
  {
   "cell_type": "markdown",
   "id": "e7139d53-04eb-4d71-a919-1d5225d8440e",
   "metadata": {},
   "source": [
    "### 2.2.1. GAEZ Data Acquisition"
   ]
  },
  {
   "cell_type": "code",
   "execution_count": 6,
   "id": "e953d7ac-a26f-4ab5-9202-0cfb30f3421b",
   "metadata": {
    "tags": []
   },
   "outputs": [],
   "source": [
    "#Import agro-climatic potential yield \n",
    "yld_High_input = pd.read_csv('Data/input/GAEZ_yld_High_Input.csv')\n",
    "yld_Low_input = pd.read_csv('Data/input/GAEZ_yld_Low_Input.csv')\n",
    "\n",
    "#Import crop water deficit\n",
    "cwd_High_input = pd.read_csv('Data/input/GAEZ_cwd_High_Input.csv')\n",
    "cwd_Low_input = pd.read_csv('Data/input/GAEZ_cwd_Low_Input.csv')\n",
    "\n",
    "#Import crop evapotranspiration \n",
    "evt_High_input = pd.read_csv('Data/input/GAEZ_evt_High_Input.csv')\n",
    "evt_Low_input = pd.read_csv('Data/input/GAEZ_evt_Low_Input.csv')\n"
   ]
  },
  {
   "cell_type": "markdown",
   "id": "5ff35412-37d9-45c8-a028-f6bab88262b4",
   "metadata": {},
   "source": [
    "### 2.2.2. GAEZ Data Preprocessing"
   ]
  },
  {
   "cell_type": "code",
   "execution_count": 7,
   "id": "5db7f4c4-72db-461e-a24b-af7f369d16e5",
   "metadata": {},
   "outputs": [],
   "source": [
    "#Add a new column for water supply\n",
    "yld_High_input['New Water Supply'] = yld_High_input['Water Supply'].apply(lambda x: 'Irrigation' if 'irrigation' in x else 'Rain-fed')\n",
    "yld_Low_input['New Water Supply'] = yld_Low_input['Water Supply'].apply(lambda x: 'Irrigation' if 'irrigation' in x else 'Rain-fed')\n",
    "\n",
    "cwd_High_input['New Water Supply'] = cwd_High_input['Water Supply'].apply(lambda x: 'Irrigation' if 'irrigation' in x else 'Rain-fed')\n",
    "cwd_Low_input['New Water Supply'] = cwd_Low_input['Water Supply'].apply(lambda x: 'Irrigation' if 'irrigation' in x else 'Rain-fed')\n",
    "\n",
    "evt_High_input['New Water Supply'] = evt_High_input['Water Supply'].apply(lambda x: 'Irrigation' if 'irrigation' in x else 'Rain-fed')\n",
    "evt_Low_input['New Water Supply'] = evt_Low_input['Water Supply'].apply(lambda x: 'Irrigation' if 'irrigation' in x else 'Rain-fed')"
   ]
  },
  {
   "cell_type": "markdown",
   "id": "70387684-69ff-47ab-8859-b9e3a2778b90",
   "metadata": {},
   "source": [
    "### 2.2.3. GAEZ Data Standardizing"
   ]
  },
  {
   "cell_type": "code",
   "execution_count": 8,
   "id": "8d3530c2-2190-435a-9f11-f746ddaee1d8",
   "metadata": {},
   "outputs": [],
   "source": [
    "        \n",
    "def GAEZ_naming (dataset, filename):\n",
    "    \n",
    "    dataset['New Crop'] = dataset['Crop'].apply(lambda x: Crop_code.loc[Crop_code['GAEZ_name'] == x, 'Code'].values[0] if x in Crop_code['GAEZ_name'].values else 'Nan')\n",
    "    dataset.to_csv(filename, index=False)\n",
    "    \n",
    "GAEZ_naming (yld_High_input, 'Data/interim_output/New_yld_High_input.csv')\n",
    "GAEZ_naming (yld_Low_input, 'Data/interim_output/New_yld_Low_input.csv')\n",
    "GAEZ_naming (cwd_High_input, 'Data/interim_output/New_cwd_High_input.csv')\n",
    "GAEZ_naming (cwd_Low_input, 'Data/interim_output/New_cwd_Low_input.csv')\n",
    "GAEZ_naming (evt_High_input, 'Data/interim_output/New_evt_High_input.csv')\n",
    "GAEZ_naming (evt_Low_input, 'Data/interim_output/New_evt_Low_input.csv')"
   ]
  },
  {
   "cell_type": "markdown",
   "id": "0b12da16-2d15-4526-914d-c5e0f8884064",
   "metadata": {},
   "source": [
    "### 2.2.4. GAEZ Data Filtering according to User Configuration"
   ]
  },
  {
   "cell_type": "code",
   "execution_count": 9,
   "id": "a2e63d3c-1dff-4e2a-b423-1f56508cac7f",
   "metadata": {},
   "outputs": [],
   "source": [
    "#filtering in accordance with user-defined RCP \n",
    "Filtered_yld_High_input = yld_High_input[yld_High_input['RCP'] == RCP]\n",
    "Filtered_cwd_High_input = cwd_High_input[cwd_High_input['RCP'] == RCP]\n",
    "Filtered_evt_High_input = evt_High_input[evt_High_input['RCP'] == RCP]\n",
    "\n",
    "#filtering based on with user-defined crops\n",
    "def GAEZ_List(dataframe, crop_list, column):\n",
    "    List = pd.DataFrame()\n",
    "    for crop in crop_list:\n",
    "        if dataframe[column].str.contains(crop).any():\n",
    "            List = pd.concat([List, dataframe[dataframe[column].str.contains(crop)]])\n",
    "    return List\n",
    "\n",
    "\n",
    "\n",
    "Main_yld_High=GAEZ_List(Filtered_yld_High_input, crop_name, \"New Crop\")\n",
    "Other_yld_High=GAEZ_List(Filtered_yld_High_input, other_crop_name, \"New Crop\")\n",
    "Main_yld_Low=GAEZ_List(yld_Low_input, crop_name, \"New Crop\")\n",
    "Other_yld_Low=GAEZ_List(yld_Low_input, other_crop_name, \"New Crop\")\n",
    "\n",
    "Main_cwd_High=GAEZ_List(Filtered_cwd_High_input, crop_name, \"New Crop\")\n",
    "Other_cwd_High=GAEZ_List(Filtered_cwd_High_input, other_crop_name, \"New Crop\")\n",
    "Main_cwd_Low=GAEZ_List(cwd_Low_input, crop_name, \"New Crop\")\n",
    "Other_cwd_Low=GAEZ_List(cwd_Low_input, other_crop_name, \"New Crop\")\n",
    "\n",
    "Main_evt_High=GAEZ_List(Filtered_evt_High_input, crop_name, \"New Crop\")\n",
    "Other_evt_High=GAEZ_List(Filtered_evt_High_input, other_crop_name, \"New Crop\")\n",
    "Main_evt_Low=GAEZ_List(evt_Low_input, crop_name, \"New Crop\")\n",
    "Other_evt_Low=GAEZ_List(evt_Low_input, other_crop_name, \"New Crop\")\n"
   ]
  },
  {
   "cell_type": "markdown",
   "id": "38234d27-4b43-4425-b579-8d4cc50fc44c",
   "metadata": {},
   "source": [
    "### 2.2.5. Downloading and Storing GAEZ Raster Files in a clewsy-Compatible Format"
   ]
  },
  {
   "cell_type": "code",
   "execution_count": 10,
   "id": "667c6e55-ee62-4797-9a42-e047154904b6",
   "metadata": {},
   "outputs": [
    {
     "name": "stdout",
     "output_type": "stream",
     "text": [
      "Downloaded: SGC yld Irrigation High\n",
      "Downloaded: SGC yld Rain-fed High\n",
      "Downloaded: CON yld Irrigation High\n",
      "Downloaded: CON yld Rain-fed High\n",
      "Downloaded: MZE yld Irrigation High\n",
      "Downloaded: MZE yld Rain-fed High\n",
      "Downloaded: CAS yld Irrigation High\n",
      "Downloaded: CAS yld Rain-fed High\n",
      "Downloaded: COC yld Irrigation High\n",
      "Downloaded: COC yld Rain-fed High\n",
      "Downloaded: SGC yld Irrigation Low\n",
      "Downloaded: SGC yld Rain-fed Low\n",
      "Downloaded: CON yld Irrigation Low\n",
      "Downloaded: CON yld Rain-fed Low\n",
      "Downloaded: MZE yld Irrigation Low\n",
      "Downloaded: MZE yld Rain-fed Low\n",
      "Downloaded: CAS yld Irrigation Low\n",
      "Downloaded: CAS yld Rain-fed Low\n",
      "Downloaded: COC yld Irrigation Low\n",
      "Downloaded: COC yld Rain-fed Low\n",
      "Downloaded: SGC cwd Irrigation High\n",
      "Downloaded: SGC cwd Rain-fed High\n",
      "Downloaded: CON cwd Irrigation High\n",
      "Downloaded: CON cwd Rain-fed High\n",
      "Downloaded: MZE cwd Irrigation High\n",
      "Downloaded: MZE cwd Rain-fed High\n",
      "Downloaded: CAS cwd Irrigation High\n",
      "Downloaded: CAS cwd Rain-fed High\n",
      "Downloaded: COC cwd Irrigation High\n",
      "Downloaded: COC cwd Rain-fed High\n",
      "Downloaded: SGC cwd Irrigation Low\n",
      "Downloaded: SGC cwd Rain-fed Low\n",
      "Downloaded: CON cwd Irrigation Low\n",
      "Downloaded: CON cwd Rain-fed Low\n",
      "Downloaded: MZE cwd Irrigation Low\n",
      "Downloaded: MZE cwd Rain-fed Low\n",
      "Downloaded: CAS cwd Irrigation Low\n",
      "Downloaded: CAS cwd Rain-fed Low\n",
      "Downloaded: COC cwd Irrigation Low\n",
      "Downloaded: COC cwd Rain-fed Low\n",
      "Downloaded: SGC evt Irrigation High\n",
      "Downloaded: SGC evt Rain-fed High\n",
      "Downloaded: CON evt Irrigation High\n",
      "Downloaded: CON evt Rain-fed High\n",
      "Downloaded: MZE evt Irrigation High\n",
      "Downloaded: MZE evt Rain-fed High\n",
      "Downloaded: CAS evt Irrigation High\n",
      "Downloaded: CAS evt Rain-fed High\n",
      "Downloaded: COC evt Irrigation High\n",
      "Downloaded: COC evt Rain-fed High\n",
      "Downloaded: SGC evt Irrigation Low\n",
      "Downloaded: SGC evt Rain-fed Low\n",
      "Downloaded: CON evt Irrigation Low\n",
      "Downloaded: CON evt Rain-fed Low\n",
      "Downloaded: MZE evt Irrigation Low\n",
      "Downloaded: MZE evt Rain-fed Low\n",
      "Downloaded: CAS evt Irrigation Low\n",
      "Downloaded: CAS evt Rain-fed Low\n",
      "Downloaded: COC evt Irrigation Low\n",
      "Downloaded: COC evt Rain-fed Low\n"
     ]
    }
   ],
   "source": [
    "def download_URL(dataframe, column, folder_name):\n",
    "    for index, row in dataframe.iterrows():\n",
    "        url = str(row[column])\n",
    "        filename = str(row['New Crop']) + ' ' + ('cwd' if str(row['Name'].split('_')[-1]) == \"wde\" else 'evt' if str(row['Name'].split('_')[-1]) == \"eta\" else str(row['Name'].split('_')[-1])) + ' ' + str(row['New Water Supply']) + ' ' + str(row['Input Level'])\n",
    "        file_path = os.path.join(folder_name, filename + '.tif')\n",
    "\n",
    "        response = requests.get(url)\n",
    "\n",
    "        with open(file_path, 'wb') as file:\n",
    "            file.write(response.content)\n",
    "\n",
    "        print(f\"Downloaded: {filename}\")\n",
    "\n",
    "in_path_raster = GLOBAL_RASTER_PATH\n",
    "download_URL(Main_yld_High, 'Download URL', in_path_raster)\n",
    "download_URL(Other_yld_High, 'Download URL', in_path_raster)\n",
    "download_URL(Main_yld_Low, 'Download URL', in_path_raster)\n",
    "download_URL(Other_yld_Low, 'Download URL', in_path_raster)\n",
    "\n",
    "download_URL(Main_cwd_High, 'Download URL', in_path_raster)\n",
    "download_URL(Other_cwd_High, 'Download URL', in_path_raster)\n",
    "download_URL(Main_cwd_Low, 'Download URL', in_path_raster)\n",
    "download_URL(Other_cwd_Low, 'Download URL', in_path_raster)\n",
    "\n",
    "download_URL(Main_evt_High, 'Download URL', in_path_raster)\n",
    "download_URL(Other_evt_High, 'Download URL', in_path_raster)\n",
    "download_URL(Main_evt_Low, 'Download URL', in_path_raster)\n",
    "download_URL(Other_evt_Low, 'Download URL', in_path_raster)\n",
    "sh.copyfile(f'{INPUT_DATA_PATH}/precipitation prc.tif', f'{GLOBAL_RASTER_PATH}/precipitation prc.tif')\n",
    "sh.copyfile(f'{INPUT_DATA_PATH}/LCType_ncb.tif', f'{GLOBAL_RASTER_PATH}/LCType_ncb.tif')"
   ]
  },
  {
   "cell_type": "markdown",
   "id": "f5b006f0-bac1-47f4-912f-da7555be3da8",
   "metadata": {},
   "source": [
    "# Part 3: Generating Land Cells"
   ]
  },
  {
   "cell_type": "markdown",
   "id": "44a1bbef-8a99-4c7b-88c9-34f032db98d1",
   "metadata": {},
   "source": [
    "## 3.1. Generating Georeferenced Point Grid from Shapefile\n",
    "Considering the resolution of GAEZ raster files, it is recommended to set spacing to 0.09 decimal degrees resulting in a detailed land and water analysis."
   ]
  },
  {
   "cell_type": "code",
   "execution_count": 11,
   "id": "1e56c728-e25d-4cb8-bc15-f81125ae2186",
   "metadata": {},
   "outputs": [],
   "source": [
    "#create a GeoDataFrame from the attributes and geometry of the shapefile\n",
    "in_path = SHAPEFILE_PATH\n",
    "shapefile = gpd.read_file(in_path + \"/\" + shp_nm)\n",
    "shapefile = shapefile.to_crs(crs_WGS84)"
   ]
  },
  {
   "cell_type": "code",
   "execution_count": 12,
   "id": "40e788c4-8c45-4030-bcd0-8113ed132c62",
   "metadata": {},
   "outputs": [],
   "source": [
    "#Creating point grid\n",
    "\n",
    "out_path = f'{OUTPUT_DATA_PATH}/{scenario}'\n",
    "spacing = 0.09\n",
    "xmin, ymin, xmax, ymax = shapefile.total_bounds\n",
    "\n",
    "xcoords = [i for i in np.arange(xmin, xmax, spacing)]\n",
    "ycoords = [i for i in np.arange(ymin, ymax, spacing)]\n",
    "\n",
    "pointcoords = np.array(np.meshgrid(xcoords, ycoords)).T.reshape(-1, 2) \n",
    "points = gpd.points_from_xy(x=pointcoords[:,0], y=pointcoords[:,1])\n",
    "grid = gpd.GeoSeries(points, crs=shapefile.crs)\n",
    "grid.name = 'geometry'\n",
    "\n",
    "\n",
    "#only points inside administrative boundary:\n",
    "gridinside = gpd.sjoin(gpd.GeoDataFrame(grid), shapefile[['geometry']], how=\"inner\")\n",
    "\n",
    "#Plot georeferenced point grid\n",
    "fig, ax = plt.subplots(figsize=(20, 20))\n",
    "shapefile.plot(ax=ax, alpha=0.7, color=\"pink\", edgecolor='red', linewidth=3)\n",
    "grid.plot(ax=ax, markersize=30, color=\"blue\")\n",
    "gridinside.plot(ax=ax, markersize=15, color=\"yellow\")\n",
    "file_path = os.path.join(out_path, \"{}_PointGrid.png\".format(country_name))\n",
    "plt.savefig(file_path)"
   ]
  },
  {
   "cell_type": "markdown",
   "id": "41ac422e-63a6-4932-a061-2530de94d482",
   "metadata": {},
   "source": [
    "## 3.2. Converting Points to Polygons"
   ]
  },
  {
   "cell_type": "markdown",
   "id": "da4016d7-6d8f-4094-bca1-84e38ae7d661",
   "metadata": {},
   "source": [
    "A regular grid point is created across the entire area of interest in the previous step. Georeferenced points have unique latitude and longitude. In this step,  square buffer-based polygons are created around each point. This allows further flexibility in the extraction of raster values using stats. The buffered polygon shall split \"equally\" the area between neighbor points; therefore, the buffer used shall be the half of the distance between two neighbor points. This, in turn depends on the location of the AoI on earth and the projection system used. "
   ]
  },
  {
   "cell_type": "markdown",
   "id": "89231fdc-321c-403b-8966-609b0adc4f45",
   "metadata": {},
   "source": [
    "### 3.2.1. Spatial Join\n",
    "Assigning the same administrative region as defined in the GeoDataFrame to the 'cluster' column."
   ]
  },
  {
   "cell_type": "code",
   "execution_count": 13,
   "id": "b13dee75-a000-430b-b18b-66323856b19e",
   "metadata": {},
   "outputs": [],
   "source": [
    "# Calculate the centroids \n",
    "clustered_gdf = gridinside\n",
    "clustered_gdf = clustered_gdf.to_crs(crs_WGS84)"
   ]
  },
  {
   "cell_type": "code",
   "execution_count": 14,
   "id": "b87f8c6d-280a-4180-83ba-9f30c6f77a0b",
   "metadata": {},
   "outputs": [],
   "source": [
    "# Rename the columns to cluster\n",
    "clustered_gdf.rename(columns={'index_right': 'cluster'}, inplace=True)\n",
    "\n",
    "# Convert cluster column to string\n",
    "clustered_gdf.cluster = clustered_gdf.cluster.astype(str).replace('0', 'NaN')"
   ]
  },
  {
   "cell_type": "code",
   "execution_count": 16,
   "id": "5aa19b18-49e0-4a38-b793-300be8fcc36a",
   "metadata": {},
   "outputs": [
    {
     "data": {
      "text/html": [
       "<div>\n",
       "<style scoped>\n",
       "    .dataframe tbody tr th:only-of-type {\n",
       "        vertical-align: middle;\n",
       "    }\n",
       "\n",
       "    .dataframe tbody tr th {\n",
       "        vertical-align: top;\n",
       "    }\n",
       "\n",
       "    .dataframe thead th {\n",
       "        text-align: right;\n",
       "    }\n",
       "</style>\n",
       "<table border=\"1\" class=\"dataframe\">\n",
       "  <thead>\n",
       "    <tr style=\"text-align: right;\">\n",
       "      <th></th>\n",
       "      <th>geometry</th>\n",
       "      <th>index_right</th>\n",
       "      <th>cluster</th>\n",
       "    </tr>\n",
       "  </thead>\n",
       "  <tbody>\n",
       "    <tr>\n",
       "      <th>0</th>\n",
       "      <td>POINT (-61.29692 5.85677)</td>\n",
       "      <td>0</td>\n",
       "      <td>GUY</td>\n",
       "    </tr>\n",
       "    <tr>\n",
       "      <th>1</th>\n",
       "      <td>POINT (-61.29692 5.94677)</td>\n",
       "      <td>0</td>\n",
       "      <td>GUY</td>\n",
       "    </tr>\n",
       "    <tr>\n",
       "      <th>2</th>\n",
       "      <td>POINT (-61.29692 6.03677)</td>\n",
       "      <td>0</td>\n",
       "      <td>GUY</td>\n",
       "    </tr>\n",
       "  </tbody>\n",
       "</table>\n",
       "</div>"
      ],
      "text/plain": [
       "                    geometry  index_right cluster\n",
       "0  POINT (-61.29692 5.85677)            0     GUY\n",
       "1  POINT (-61.29692 5.94677)            0     GUY\n",
       "2  POINT (-61.29692 6.03677)            0     GUY"
      ]
     },
     "execution_count": 16,
     "metadata": {},
     "output_type": "execute_result"
    }
   ],
   "source": [
    "# Reset the index of the left dataframe\n",
    "clustered_gdf = clustered_gdf.reset_index(drop=True)\n",
    "admin_name = \"NAME_\" + str(admin_level)\n",
    "\n",
    "if admin_level == 0:\n",
    "    # Perform the spatial join\n",
    "    clustered_gdf = gpd.sjoin(clustered_gdf, shapefile[[\"geometry\", \"GID_0\"]], predicate='within').drop(['cluster'], axis=1)\n",
    "    \n",
    "    # Rename the 'GID_0' column to 'cluster'\n",
    "    clustered_gdf.rename(columns={'GID_0': 'cluster'}, inplace=True)\n",
    "else:\n",
    "    # Perform the spatial join\n",
    "    clustered_gdf = gpd.sjoin(clustered_gdf, shapefile[[\"geometry\", admin_name]], predicate='within').drop(['cluster'], axis=1)\n",
    "    \n",
    "    # Rename the 'NAME_1' column to 'cluster'\n",
    "    clustered_gdf.rename(columns={admin_name: 'cluster'}, inplace=True)\n",
    "\n",
    "# Print the first 5 rows of the joined GeoDataFrame\n",
    "clustered_gdf.head(3)\n"
   ]
  },
  {
   "cell_type": "code",
   "execution_count": 17,
   "id": "64cb292f-a77e-474f-8951-548e9aa5c8e3",
   "metadata": {},
   "outputs": [
    {
     "data": {
      "text/html": [
       "<div>\n",
       "<style scoped>\n",
       "    .dataframe tbody tr th:only-of-type {\n",
       "        vertical-align: middle;\n",
       "    }\n",
       "\n",
       "    .dataframe tbody tr th {\n",
       "        vertical-align: top;\n",
       "    }\n",
       "\n",
       "    .dataframe thead th {\n",
       "        text-align: right;\n",
       "    }\n",
       "</style>\n",
       "<table border=\"1\" class=\"dataframe\">\n",
       "  <thead>\n",
       "    <tr style=\"text-align: right;\">\n",
       "      <th></th>\n",
       "      <th>geometry</th>\n",
       "      <th>index_right</th>\n",
       "      <th>cluster</th>\n",
       "    </tr>\n",
       "  </thead>\n",
       "  <tbody>\n",
       "    <tr>\n",
       "      <th>0</th>\n",
       "      <td>POINT (-61.29692 5.85677)</td>\n",
       "      <td>0</td>\n",
       "      <td>GUY</td>\n",
       "    </tr>\n",
       "    <tr>\n",
       "      <th>1</th>\n",
       "      <td>POINT (-61.29692 5.94677)</td>\n",
       "      <td>0</td>\n",
       "      <td>GUY</td>\n",
       "    </tr>\n",
       "    <tr>\n",
       "      <th>2</th>\n",
       "      <td>POINT (-61.29692 6.03677)</td>\n",
       "      <td>0</td>\n",
       "      <td>GUY</td>\n",
       "    </tr>\n",
       "  </tbody>\n",
       "</table>\n",
       "</div>"
      ],
      "text/plain": [
       "                    geometry  index_right cluster\n",
       "0  POINT (-61.29692 5.85677)            0     GUY\n",
       "1  POINT (-61.29692 5.94677)            0     GUY\n",
       "2  POINT (-61.29692 6.03677)            0     GUY"
      ]
     },
     "execution_count": 17,
     "metadata": {},
     "output_type": "execute_result"
    }
   ],
   "source": [
    "# create a new column based on first 3 letters of the 'cluster' column\n",
    "clustered_gdf['new_cluster'] = clustered_gdf['cluster'].apply(lambda x:  x[:3]).str.upper()\n",
    "clustered_gdf = clustered_gdf.rename(columns={'cluster': 'old_cluster'})\n",
    "clustered_gdf = clustered_gdf.rename(columns={'new_cluster': 'cluster'})\n",
    "clustered_gdf = clustered_gdf.drop(columns=['old_cluster'])\n",
    "clustered_gdf.head(3)\n"
   ]
  },
  {
   "cell_type": "markdown",
   "id": "00142605-5c06-4029-8626-9fc0374eaa20",
   "metadata": {},
   "source": [
    "### 3.2.2. Region Aggregation\n"
   ]
  },
  {
   "cell_type": "code",
   "execution_count": 18,
   "id": "ba08a6b7-7249-4ed9-ba3b-5235f43b7b0c",
   "metadata": {},
   "outputs": [
    {
     "data": {
      "text/html": [
       "<div>\n",
       "<style scoped>\n",
       "    .dataframe tbody tr th:only-of-type {\n",
       "        vertical-align: middle;\n",
       "    }\n",
       "\n",
       "    .dataframe tbody tr th {\n",
       "        vertical-align: top;\n",
       "    }\n",
       "\n",
       "    .dataframe thead th {\n",
       "        text-align: right;\n",
       "    }\n",
       "</style>\n",
       "<table border=\"1\" class=\"dataframe\">\n",
       "  <thead>\n",
       "    <tr style=\"text-align: right;\">\n",
       "      <th></th>\n",
       "      <th>geometry</th>\n",
       "      <th>index_right</th>\n",
       "      <th>cluster</th>\n",
       "    </tr>\n",
       "  </thead>\n",
       "  <tbody>\n",
       "    <tr>\n",
       "      <th>0</th>\n",
       "      <td>POINT (-61.29692 5.85677)</td>\n",
       "      <td>0</td>\n",
       "      <td>GUY</td>\n",
       "    </tr>\n",
       "    <tr>\n",
       "      <th>1</th>\n",
       "      <td>POINT (-61.29692 5.94677)</td>\n",
       "      <td>0</td>\n",
       "      <td>GUY</td>\n",
       "    </tr>\n",
       "    <tr>\n",
       "      <th>2</th>\n",
       "      <td>POINT (-61.29692 6.03677)</td>\n",
       "      <td>0</td>\n",
       "      <td>GUY</td>\n",
       "    </tr>\n",
       "  </tbody>\n",
       "</table>\n",
       "</div>"
      ],
      "text/plain": [
       "                    geometry  index_right cluster\n",
       "0  POINT (-61.29692 5.85677)            0     GUY\n",
       "1  POINT (-61.29692 5.94677)            0     GUY\n",
       "2  POINT (-61.29692 6.03677)            0     GUY"
      ]
     },
     "execution_count": 18,
     "metadata": {},
     "output_type": "execute_result"
    }
   ],
   "source": [
    "#Aggregating subnational regions based on user-defined aggregation list. The aggregated land cells of regions are represented by the Grouped Region Cluster (GRC).\n",
    "if aggregate == True:\n",
    "    clustered_gdf['cluster'] = clustered_gdf['cluster'].apply(lambda x: 'GRC' if x in aggregate_region else x)\n",
    "    \n",
    "clustered_gdf.head(3)"
   ]
  },
  {
   "cell_type": "markdown",
   "id": "643cda87-5502-45a1-9734-81d1634f52f1",
   "metadata": {},
   "source": [
    "### 3.2.3. Generating Polygons\n",
    "Creating Polygons From Georeferenced Clustered Grid Points"
   ]
  },
  {
   "cell_type": "code",
   "execution_count": 19,
   "id": "228c6eba-44e2-4733-96dd-de242da21d55",
   "metadata": {},
   "outputs": [],
   "source": [
    "#Buffer value used should be half the distance between two adjacent points, which in turn is dependent on the location of the Area of Interest (AoI) on Earth and the projection system being used.\n",
    "buffer_value = 0.045"
   ]
  },
  {
   "cell_type": "code",
   "execution_count": 20,
   "id": "667cf6bb-8157-4aff-9f93-6291c754c9e0",
   "metadata": {},
   "outputs": [
    {
     "data": {
      "text/html": [
       "<div>\n",
       "<style scoped>\n",
       "    .dataframe tbody tr th:only-of-type {\n",
       "        vertical-align: middle;\n",
       "    }\n",
       "\n",
       "    .dataframe tbody tr th {\n",
       "        vertical-align: top;\n",
       "    }\n",
       "\n",
       "    .dataframe thead th {\n",
       "        text-align: right;\n",
       "    }\n",
       "</style>\n",
       "<table border=\"1\" class=\"dataframe\">\n",
       "  <thead>\n",
       "    <tr style=\"text-align: right;\">\n",
       "      <th></th>\n",
       "      <th>geometry</th>\n",
       "      <th>index_right</th>\n",
       "      <th>cluster</th>\n",
       "    </tr>\n",
       "  </thead>\n",
       "  <tbody>\n",
       "    <tr>\n",
       "      <th>0</th>\n",
       "      <td>POLYGON ((-61.25192 5.90177, -61.25192 5.81177...</td>\n",
       "      <td>0</td>\n",
       "      <td>GUY</td>\n",
       "    </tr>\n",
       "    <tr>\n",
       "      <th>1</th>\n",
       "      <td>POLYGON ((-61.25192 5.99177, -61.25192 5.90177...</td>\n",
       "      <td>0</td>\n",
       "      <td>GUY</td>\n",
       "    </tr>\n",
       "    <tr>\n",
       "      <th>2</th>\n",
       "      <td>POLYGON ((-61.25192 6.08177, -61.25192 5.99177...</td>\n",
       "      <td>0</td>\n",
       "      <td>GUY</td>\n",
       "    </tr>\n",
       "  </tbody>\n",
       "</table>\n",
       "</div>"
      ],
      "text/plain": [
       "                                            geometry  index_right cluster\n",
       "0  POLYGON ((-61.25192 5.90177, -61.25192 5.81177...            0     GUY\n",
       "1  POLYGON ((-61.25192 5.99177, -61.25192 5.90177...            0     GUY\n",
       "2  POLYGON ((-61.25192 6.08177, -61.25192 5.99177...            0     GUY"
      ]
     },
     "execution_count": 20,
     "metadata": {},
     "output_type": "execute_result"
    }
   ],
   "source": [
    "#cap_style refers to the type of geometry generated; 3=square (see shapely documectation for more info -- https://shapely.readthedocs.io/en/stable/manual.html)\n",
    "\n",
    "clustered_gdf['geometry'] = clustered_gdf.apply(lambda x:\n",
    "                                                          x.geometry.buffer(buffer_value, cap_style=3), axis=1)\n",
    "\n",
    "clustered_gdf.head(3)\n"
   ]
  },
  {
   "cell_type": "markdown",
   "id": "a9f9ded7-11d1-44aa-9be6-8f3f1465d527",
   "metadata": {},
   "source": [
    "**Note!** Several features are not classified into a cluster. While points away of the administrative borders will be cut out of the analysis, some points right next to the outer administrative borders might create inconsistency when calculating area. In the following section we are dealing with this problem."
   ]
  },
  {
   "cell_type": "markdown",
   "id": "dffc3ede-0e2d-460e-82bb-35fa64672ec2",
   "metadata": {},
   "source": [
    "## 3.3. Total Area Re-Estimation & Calibration\n",
    "\n",
    "This step estimates and calibrates the area (in square km) based on the area provided by the admin layer used in the analysis (e.g. clipping). "
   ]
  },
  {
   "cell_type": "markdown",
   "id": "74627075-a14c-47e5-a153-96876e3cbc30",
   "metadata": {},
   "source": [
    "### 3.3.1. Area Calibration"
   ]
  },
  {
   "cell_type": "code",
   "execution_count": 21,
   "id": "b46aa733-74e3-40af-9f7e-58086eb1c3ee",
   "metadata": {},
   "outputs": [],
   "source": [
    "#Read admin layer as GeoDtaFrame\n",
    "admin = gpd.read_file(in_path + \"/\" + admin0_nm)\n",
    "\n",
    "#Project to proper crs\n",
    "admin = admin.to_crs(crs_proj)"
   ]
  },
  {
   "cell_type": "code",
   "execution_count": 22,
   "id": "04cdcd60-2a7f-44f2-aa5a-8891bf2aac1f",
   "metadata": {},
   "outputs": [
    {
     "data": {
      "text/html": [
       "<div>\n",
       "<style scoped>\n",
       "    .dataframe tbody tr th:only-of-type {\n",
       "        vertical-align: middle;\n",
       "    }\n",
       "\n",
       "    .dataframe tbody tr th {\n",
       "        vertical-align: top;\n",
       "    }\n",
       "\n",
       "    .dataframe thead th {\n",
       "        text-align: right;\n",
       "    }\n",
       "</style>\n",
       "<table border=\"1\" class=\"dataframe\">\n",
       "  <thead>\n",
       "    <tr style=\"text-align: right;\">\n",
       "      <th></th>\n",
       "      <th>geometry</th>\n",
       "      <th>index_right</th>\n",
       "      <th>cluster</th>\n",
       "    </tr>\n",
       "  </thead>\n",
       "  <tbody>\n",
       "    <tr>\n",
       "      <th>0</th>\n",
       "      <td>POLYGON ((-61.25192 5.90177, -61.25192 5.81177...</td>\n",
       "      <td>0</td>\n",
       "      <td>GUY</td>\n",
       "    </tr>\n",
       "    <tr>\n",
       "      <th>1</th>\n",
       "      <td>POLYGON ((-61.25192 5.99177, -61.25192 5.90177...</td>\n",
       "      <td>0</td>\n",
       "      <td>GUY</td>\n",
       "    </tr>\n",
       "    <tr>\n",
       "      <th>2</th>\n",
       "      <td>POLYGON ((-61.25192 6.08177, -61.25192 5.99177...</td>\n",
       "      <td>0</td>\n",
       "      <td>GUY</td>\n",
       "    </tr>\n",
       "  </tbody>\n",
       "</table>\n",
       "</div>"
      ],
      "text/plain": [
       "                                            geometry  index_right cluster\n",
       "0  POLYGON ((-61.25192 5.90177, -61.25192 5.81177...            0     GUY\n",
       "1  POLYGON ((-61.25192 5.99177, -61.25192 5.90177...            0     GUY\n",
       "2  POLYGON ((-61.25192 6.08177, -61.25192 5.99177...            0     GUY"
      ]
     },
     "execution_count": 22,
     "metadata": {},
     "output_type": "execute_result"
    }
   ],
   "source": [
    "final_clustered_GAEZ_gdf = clustered_gdf\n",
    "final_clustered_GAEZ_gdf.head(3)"
   ]
  },
  {
   "cell_type": "code",
   "execution_count": 23,
   "id": "5b6e8323-6887-4ac3-bf20-624ad6fd9ae9",
   "metadata": {},
   "outputs": [],
   "source": [
    "# Project datasets to proper crs\n",
    "final_clustered_GAEZ_gdf_prj = final_clustered_GAEZ_gdf.to_crs(crs_proj)"
   ]
  },
  {
   "cell_type": "code",
   "execution_count": 24,
   "id": "a87a9160-000c-4112-a883-d8b1f3924a52",
   "metadata": {},
   "outputs": [],
   "source": [
    "#add a column for area calculation\n",
    "final_clustered_GAEZ_gdf_prj[\"sqkm\"] = final_clustered_GAEZ_gdf_prj['geometry'].area/10**6"
   ]
  },
  {
   "cell_type": "code",
   "execution_count": 25,
   "id": "c2102b3c-e9cd-42ae-8d5f-488098739a53",
   "metadata": {},
   "outputs": [],
   "source": [
    "def get_multiplier(estimated, official):\n",
    "    if official == estimated:\n",
    "        return 1\n",
    "    try:\n",
    "        return  official / estimated\n",
    "    except ZeroDivisionError:\n",
    "        return 0"
   ]
  },
  {
   "cell_type": "code",
   "execution_count": 26,
   "id": "33cfb66e-66dd-4106-b456-b5df859577a3",
   "metadata": {},
   "outputs": [],
   "source": [
    "estimated_area = final_clustered_GAEZ_gdf_prj.sqkm.sum()\n",
    "official_area = admin.geometry.area.sum()/10**6\n",
    "\n",
    "# Estimate column multipler\n",
    "multiplier = get_multiplier(estimated_area, official_area)"
   ]
  },
  {
   "cell_type": "code",
   "execution_count": 27,
   "id": "14f1044e-9404-4dce-8bca-4d158329e4d1",
   "metadata": {},
   "outputs": [],
   "source": [
    "final_clustered_GAEZ_gdf_prj.sqkm = final_clustered_GAEZ_gdf_prj.sqkm * multiplier"
   ]
  },
  {
   "cell_type": "code",
   "execution_count": 28,
   "id": "92695874-a7aa-4167-b588-e895ae51ecd2",
   "metadata": {},
   "outputs": [
    {
     "name": "stdout",
     "output_type": "stream",
     "text": [
      "Our modelling exercise yields a total area of 210280.4 sqkm for the country\n",
      "The admin layer indicates 209877.6 sqkm\n",
      "After calibration the total area is set at 209877.6 sqkm\n"
     ]
    }
   ],
   "source": [
    "print (\"Our modelling exercise yields a total area of {0:.1f} sqkm for the country\".format(estimated_area))\n",
    "print (\"The admin layer indicates {0:.1f} sqkm\".format(official_area))\n",
    "print (\"After calibration the total area is set at {0:.1f} sqkm\".format(final_clustered_GAEZ_gdf_prj.sqkm.sum()))"
   ]
  },
  {
   "cell_type": "markdown",
   "id": "884b0e6d-9ece-492b-a88c-18832eced3f9",
   "metadata": {},
   "source": [
    "### 3.3.2. Final Check"
   ]
  },
  {
   "cell_type": "code",
   "execution_count": 29,
   "id": "8522a2fd-638a-4d02-8b57-a7071a0684c2",
   "metadata": {},
   "outputs": [],
   "source": [
    "#Revert to original crs\n",
    "final_clustered_GAEZ_gdf = final_clustered_GAEZ_gdf_prj.to_crs(crs_WGS84)"
   ]
  },
  {
   "cell_type": "code",
   "execution_count": 30,
   "id": "ced60daa-4610-4442-8f8f-e8d8906ae722",
   "metadata": {},
   "outputs": [
    {
     "data": {
      "text/html": [
       "<div>\n",
       "<style scoped>\n",
       "    .dataframe tbody tr th:only-of-type {\n",
       "        vertical-align: middle;\n",
       "    }\n",
       "\n",
       "    .dataframe tbody tr th {\n",
       "        vertical-align: top;\n",
       "    }\n",
       "\n",
       "    .dataframe thead th {\n",
       "        text-align: right;\n",
       "    }\n",
       "</style>\n",
       "<table border=\"1\" class=\"dataframe\">\n",
       "  <thead>\n",
       "    <tr style=\"text-align: right;\">\n",
       "      <th></th>\n",
       "      <th>geometry</th>\n",
       "      <th>index_right</th>\n",
       "      <th>cluster</th>\n",
       "      <th>sqkm</th>\n",
       "    </tr>\n",
       "  </thead>\n",
       "  <tbody>\n",
       "    <tr>\n",
       "      <th>0</th>\n",
       "      <td>POLYGON ((-61.25192 5.90177, -61.25192 5.81177...</td>\n",
       "      <td>0</td>\n",
       "      <td>GUY</td>\n",
       "      <td>99.484037</td>\n",
       "    </tr>\n",
       "    <tr>\n",
       "      <th>1</th>\n",
       "      <td>POLYGON ((-61.25192 5.99177, -61.25192 5.90177...</td>\n",
       "      <td>0</td>\n",
       "      <td>GUY</td>\n",
       "      <td>99.468121</td>\n",
       "    </tr>\n",
       "    <tr>\n",
       "      <th>2</th>\n",
       "      <td>POLYGON ((-61.25192 6.08177, -61.25192 5.99177...</td>\n",
       "      <td>0</td>\n",
       "      <td>GUY</td>\n",
       "      <td>99.451962</td>\n",
       "    </tr>\n",
       "  </tbody>\n",
       "</table>\n",
       "</div>"
      ],
      "text/plain": [
       "                                            geometry  index_right cluster  \\\n",
       "0  POLYGON ((-61.25192 5.90177, -61.25192 5.81177...            0     GUY   \n",
       "1  POLYGON ((-61.25192 5.99177, -61.25192 5.90177...            0     GUY   \n",
       "2  POLYGON ((-61.25192 6.08177, -61.25192 5.99177...            0     GUY   \n",
       "\n",
       "        sqkm  \n",
       "0  99.484037  \n",
       "1  99.468121  \n",
       "2  99.451962  "
      ]
     },
     "execution_count": 30,
     "metadata": {},
     "output_type": "execute_result"
    }
   ],
   "source": [
    "#Final check\n",
    "final_clustered_GAEZ_gdf.head(3)"
   ]
  },
  {
   "cell_type": "markdown",
   "id": "c1bbe9ca-554c-4f86-a140-f1adbb7fbda7",
   "metadata": {},
   "source": [
    "### 3.3.3. Export as GeoPackage"
   ]
  },
  {
   "cell_type": "code",
   "execution_count": 31,
   "id": "d1e76963-24c3-4ddc-bbf5-7a9ac42c4a61",
   "metadata": {},
   "outputs": [
    {
     "name": "stdout",
     "output_type": "stream",
     "text": [
      "Part 3 complete!\n"
     ]
    }
   ],
   "source": [
    "final_clustered_GAEZ_gdf.to_file(os.path.join(out_path,\"{c}.gpkg\".format(c=output_nm)),driver=\"GPKG\")\n",
    "print (\"Part 3 complete!\")\n"
   ]
  },
  {
   "cell_type": "markdown",
   "id": "f2d297dd-d80e-4e4a-b130-323858efc6fc",
   "metadata": {},
   "source": [
    "# Part 4: Geospatial Attributes Extraction to land cells"
   ]
  },
  {
   "cell_type": "markdown",
   "id": "198c7319-6fa2-4a4f-9e6d-88c68e79b611",
   "metadata": {},
   "source": [
    "The functions employed in the fourth part extract values from TIFF-formatted GAEZ raster files, and assign them as attributes to the land cells based on their spatial locations\n"
   ]
  },
  {
   "cell_type": "markdown",
   "id": "cd71548c-4139-4769-9115-655d7ed27063",
   "metadata": {},
   "source": [
    "## 4.1. Clipping GAEZ Raster Files\n",
    "The administrative boundary of the study area is used to clip the GAEZ raster files with global coverage, which leads to a reduction in the computational processing time"
   ]
  },
  {
   "cell_type": "code",
   "execution_count": 32,
   "id": "4ea5157d-2879-4f3e-8677-da9bb10b2c1c",
   "metadata": {
    "tags": []
   },
   "outputs": [],
   "source": [
    "admin = admin.to_crs(crs_WGS84)\n",
    "out_path_raster = CROPPED_RASTER_PATH\n",
    "for i in os.listdir(in_path_raster):\n",
    "    with rasterio.open(os.path.join(in_path_raster, i)) as src:\n",
    "        # Get the admin's CRS\n",
    "        admin_crs = admin.crs\n",
    "        \n",
    "        # Get the geometry of the admin\n",
    "        admin_geom = admin.geometry.values[0]\n",
    "        \n",
    "        # Crop the raster based on the admin's geometry\n",
    "        out_image, out_transform = mask(src, [admin_geom], crop=True)\n",
    "        \n",
    "        # Update the metadata of the cropped raster\n",
    "        out_meta = src.meta.copy()\n",
    "        out_meta.update({\n",
    "            \"driver\": \"GTiff\",\n",
    "            \"height\": out_image.shape[1],\n",
    "            \"width\": out_image.shape[2],\n",
    "            \"transform\": out_transform,\n",
    "            \"crs\": admin_crs\n",
    "        })\n",
    "        \n",
    "        # Write the cropped raster to the output directory\n",
    "        out_path_tif_crop = os.path.join(out_path_raster, i)\n",
    "        with rasterio.open(out_path_tif_crop, \"w\", **out_meta) as dest:\n",
    "            dest.write(out_image)\n"
   ]
  },
  {
   "cell_type": "markdown",
   "id": "473569d7-cfe6-4f77-956c-63d852b22d36",
   "metadata": {},
   "source": [
    "## 4.2. Defining Functions"
   ]
  },
  {
   "cell_type": "code",
   "execution_count": 33,
   "id": "02bd20d1-f349-4265-a9b3-1e113471d90e",
   "metadata": {
    "tags": []
   },
   "outputs": [],
   "source": [
    "# Processing Continuous/Numerical Rasters\n",
    "def processing_raster_con(path, raster, prefix, method, land_cells):\n",
    "    \"\"\"\n",
    "    This function calculates stats for numerical rasters and attributes them to the given vector features. \n",
    "    \n",
    "    INPUT: \n",
    "    name: string used as prefix when assigning features to the vectors\n",
    "    method: statistical method to be used (check documentation)\n",
    "    land_cells: the vector layer containing the land cells\n",
    "    \n",
    "    OUTPUT:\n",
    "    geojson file of the vector features including the new attributes\n",
    "    \"\"\"\n",
    "\n",
    "    raster=rasterio.open(path + '/' + raster)\n",
    "    \n",
    "    land_cells = zonal_stats(\n",
    "        land_cells,\n",
    "        raster.name,\n",
    "        stats=[method],\n",
    "        prefix=prefix, geojson_out=True, all_touched=True)\n",
    "    \n",
    "    print(\"{} processing completed at\".format(prefix), datetime.datetime.now())\n",
    "    return land_cells\n",
    "\n"
   ]
  },
  {
   "cell_type": "code",
   "execution_count": 34,
   "id": "5504cd13-ab40-434d-8c1e-8a23944b6ea3",
   "metadata": {},
   "outputs": [],
   "source": [
    "# Processing Categorical/Discrete Rasters\n",
    "def processing_raster_cat(path, raster, prefix, land_cells):\n",
    "    \"\"\"\n",
    "    This function calculates stats for categorical rasters and attributes them to the given vector features. \n",
    "    \n",
    "    INPUT: \n",
    "    path: the directory where the raster layer is stored \n",
    "    raster: the name and extention of the raster layer \n",
    "    prefix: string used as prefix when assigning features to the vectors\n",
    "    land_cells: the vector layer containing the land cells\n",
    "    \n",
    "    OUTPUT:\n",
    "    geojson file of the vector features including the new attributes\n",
    "    \"\"\"    \n",
    "    raster=rasterio.open(path + '/' + raster)\n",
    "    \n",
    "    land_cells = zonal_stats(\n",
    "        land_cells,\n",
    "        raster.name,\n",
    "        categorical=True,\n",
    "        prefix=prefix, geojson_out=True, all_touched=True)\n",
    "    \n",
    "    print(\"{} processing completed at\".format(prefix), datetime.datetime.now())\n",
    "    return land_cells\n"
   ]
  },
  {
   "cell_type": "code",
   "execution_count": 35,
   "id": "1955b5d0-0320-455f-beaa-8e142d84427d",
   "metadata": {},
   "outputs": [],
   "source": [
    "## Converting geojson to GeoDataFrame\n",
    "def geojson_to_gdf(workspace, geojson_file):\n",
    "    \"\"\"\n",
    "    This function returns a GeoDataFrame for a given geojson file\n",
    "    \n",
    "    INPUT: \n",
    "    workplace: working directory\n",
    "    geojson_file: geojson layer to be convertes\n",
    "    crs: projection system in epsg format (e.g. 'EPSG:21037')\n",
    "    \n",
    "    OUTPUT:\n",
    "    GeoDataFrame\n",
    "    \"\"\"\n",
    "    output = workspace + r'\\placeholder.geojson'\n",
    "    with open(output, \"w\") as dst:\n",
    "        collection = {\n",
    "            \"type\": \"FeatureCollection\",\n",
    "            \"features\": list(geojson_file)}\n",
    "        dst.write(json.dumps(collection))\n",
    "  \n",
    "    land_cells = gpd.read_file(output)\n",
    "    os.remove(output)\n",
    "    \n",
    "    print(\"cluster created a new at\", datetime.datetime.now())\n",
    "    return land_cells\n",
    "\n"
   ]
  },
  {
   "cell_type": "markdown",
   "id": "34230443-3b0c-4e28-941c-5e06a03df6b9",
   "metadata": {},
   "source": [
    "## 4.3. Collecting Raster Files"
   ]
  },
  {
   "cell_type": "code",
   "execution_count": 36,
   "id": "05df6feb-f68c-432d-9c29-f3e6b62650ed",
   "metadata": {},
   "outputs": [
    {
     "name": "stdout",
     "output_type": "stream",
     "text": [
      "We have identified 67 continuous raster(s): \n",
      "\n",
      "* MZE cwd Rain-fed Low.tif\n",
      "* CAS yld Rain-fed High.tif\n",
      "* COC evt Rain-fed Low.tif\n",
      "* CON evt Irrigation High.tif\n",
      "* CON evt Rain-fed High.tif\n",
      "* CAS evt Rain-fed High.tif\n",
      "* CON evt Irrigation Low.tif\n",
      "* SGC cwd Rain-fed High.tif\n",
      "* MZE evt Irrigation Low.tif\n",
      "* CAS yld Irrigation High.tif\n",
      "* COC cwd Irrigation Low.tif\n",
      "* COC cwd Irrigation High.tif\n",
      "* SGC evt Irrigation High.tif\n",
      "* CON yld Rain-fed High.tif\n",
      "* MZE cwd Irrigation High.tif\n",
      "* SGC yld Irrigation Low.tif\n",
      "* SGC yld Irrigation High.tif\n",
      "* CON cwd Irrigation High.tif\n",
      "* CAS evt Irrigation High.tif\n",
      "* CAS cwd Rain-fed Low.tif\n",
      "* MZE evt Rain-fed Low.tif\n",
      "* COW yld Irrigation High.tif\n",
      "* MZE cwd Rain-fed High.tif\n",
      "* SGC yld Rain-fed Low.tif\n",
      "* CAS evt Rain-fed Low.tif\n",
      "* TEA yld Rain-fed High.tif\n",
      "* COW yld Rain-fed High.tif\n",
      "* SGC cwd Irrigation Low.tif\n",
      "* CON yld Irrigation High.tif\n",
      "* COC evt Irrigation High.tif\n",
      "* CAS yld Irrigation Low.tif\n",
      "* SGC evt Rain-fed High.tif\n",
      "* CON cwd Rain-fed Low.tif\n",
      "* COC evt Rain-fed High.tif\n",
      "* COC cwd Rain-fed High.tif\n",
      "* precipitation prc.tif\n",
      "* CON cwd Irrigation Low.tif\n",
      "* MZE evt Rain-fed High.tif\n",
      "* CON yld Rain-fed Low.tif\n",
      "* SGC cwd Rain-fed Low.tif\n",
      "* COC yld Rain-fed Low.tif\n",
      "* CON evt Rain-fed Low.tif\n",
      "* CON yld Irrigation Low.tif\n",
      "* SGC evt Rain-fed Low.tif\n",
      "* MZE yld Rain-fed High.tif\n",
      "* COC cwd Rain-fed Low.tif\n",
      "* BEA yld Irrigation High.tif\n",
      "* MZE cwd Irrigation Low.tif\n",
      "* COC yld Irrigation Low.tif\n",
      "* CON cwd Rain-fed High.tif\n",
      "* CAS yld Rain-fed Low.tif\n",
      "* SGC evt Irrigation Low.tif\n",
      "* CAS cwd Irrigation Low.tif\n",
      "* MZE yld Irrigation Low.tif\n",
      "* CAS cwd Rain-fed High.tif\n",
      "* COC yld Rain-fed High.tif\n",
      "* CAS cwd Irrigation High.tif\n",
      "* MZE yld Rain-fed Low.tif\n",
      "* COC evt Irrigation Low.tif\n",
      "* MZE evt Irrigation High.tif\n",
      "* CAS evt Irrigation Low.tif\n",
      "* COC yld Irrigation High.tif\n",
      "* SGC yld Rain-fed High.tif\n",
      "* TEA yld Irrigation High.tif\n",
      "* BEA yld Rain-fed High.tif\n",
      "* MZE yld Irrigation High.tif\n",
      "* SGC cwd Irrigation High.tif\n",
      "\n",
      " We have identified 1 discrete raster(s): \n",
      "\n",
      "* LCType_ncb.tif\n"
     ]
    }
   ],
   "source": [
    "# Read files with tif extension and assign their name into two list for discrete and continuous datasets\n",
    "raster_files_dis = []\n",
    "raster_files_con =[]\n",
    "\n",
    "for i in os.listdir(out_path_raster):\n",
    "    if (\"ncb\" in i) and i.endswith('.tif'):\n",
    "        with rasterio.open(out_path_raster + '/' + i) as src:\n",
    "            raster_files_dis.append(i)            \n",
    "    else:\n",
    "        with rasterio.open(out_path_raster  + '/' + i) as src:\n",
    "            data = src.read()\n",
    "            raster_files_con.append(i)\n",
    "\n",
    "                \n",
    "# keep only unique values -- Not needed but just in case there are dublicates\n",
    "raster_files_con = list(set(raster_files_con))\n",
    "raster_files_dis = list(set(raster_files_dis))\n",
    "                \n",
    "print (\"We have identified {} continuous raster(s):\".format(len(raster_files_con)),\"\\n\",)\n",
    "for raster in raster_files_con:\n",
    "    print ( \"*\", raster)\n",
    "    \n",
    "print (\"\\n\", \"We have identified {} discrete raster(s):\".format(len(raster_files_dis)),\"\\n\",)\n",
    "for raster in raster_files_dis:\n",
    "    print ( \"*\", raster)"
   ]
  },
  {
   "cell_type": "markdown",
   "id": "c7e92083-1b69-437a-995a-7385a8a03ad0",
   "metadata": {},
   "source": [
    "## 4.4. Extracting Raster Values "
   ]
  },
  {
   "cell_type": "code",
   "execution_count": 37,
   "id": "4f88612e-c6e2-435b-834e-8872079f39a0",
   "metadata": {},
   "outputs": [],
   "source": [
    "land_cells = final_clustered_GAEZ_gdf"
   ]
  },
  {
   "cell_type": "markdown",
   "id": "243243ae-ff0a-43c6-a6d5-58f842efb9e6",
   "metadata": {},
   "source": [
    "### 4.4.1. Continuous Datasets (e.g. precipitation, crop evapotranspiration etc.)"
   ]
  },
  {
   "cell_type": "code",
   "execution_count": 38,
   "id": "3dccfeb5-cd4a-47e3-9ae7-40975565e34e",
   "metadata": {},
   "outputs": [
    {
     "name": "stdout",
     "output_type": "stream",
     "text": [
      "MZE cwd Rain-fed Low_ processing completed at 2025-06-25 23:04:14.990914\n",
      "CAS yld Rain-fed High_ processing completed at 2025-06-25 23:04:19.395459\n",
      "COC evt Rain-fed Low_ processing completed at 2025-06-25 23:04:23.968101\n",
      "CON evt Irrigation High_ processing completed at 2025-06-25 23:04:28.589219\n",
      "CON evt Rain-fed High_ processing completed at 2025-06-25 23:04:33.392937\n",
      "CAS evt Rain-fed High_ processing completed at 2025-06-25 23:04:37.284895\n",
      "CON evt Irrigation Low_ processing completed at 2025-06-25 23:04:41.447477\n",
      "SGC cwd Rain-fed High_ processing completed at 2025-06-25 23:04:45.602456\n",
      "MZE evt Irrigation Low_ processing completed at 2025-06-25 23:04:49.778831\n",
      "CAS yld Irrigation High_ processing completed at 2025-06-25 23:04:53.925489\n",
      "COC cwd Irrigation Low_ processing completed at 2025-06-25 23:04:58.062617\n",
      "COC cwd Irrigation High_ processing completed at 2025-06-25 23:05:02.021248\n",
      "SGC evt Irrigation High_ processing completed at 2025-06-25 23:05:06.467348\n",
      "CON yld Rain-fed High_ processing completed at 2025-06-25 23:05:10.622158\n",
      "MZE cwd Irrigation High_ processing completed at 2025-06-25 23:05:14.843596\n",
      "SGC yld Irrigation Low_ processing completed at 2025-06-25 23:05:19.044490\n",
      "SGC yld Irrigation High_ processing completed at 2025-06-25 23:05:22.844250\n",
      "CON cwd Irrigation High_ processing completed at 2025-06-25 23:05:26.785668\n",
      "CAS evt Irrigation High_ processing completed at 2025-06-25 23:05:31.267751\n",
      "CAS cwd Rain-fed Low_ processing completed at 2025-06-25 23:05:36.206583\n",
      "MZE evt Rain-fed Low_ processing completed at 2025-06-25 23:05:40.555915\n",
      "COW yld Irrigation High_ processing completed at 2025-06-25 23:05:45.061158\n",
      "MZE cwd Rain-fed High_ processing completed at 2025-06-25 23:05:49.239892\n",
      "SGC yld Rain-fed Low_ processing completed at 2025-06-25 23:05:53.744420\n",
      "CAS evt Rain-fed Low_ processing completed at 2025-06-25 23:05:57.982109\n",
      "TEA yld Rain-fed High_ processing completed at 2025-06-25 23:06:02.208031\n",
      "COW yld Rain-fed High_ processing completed at 2025-06-25 23:06:06.172995\n",
      "SGC cwd Irrigation Low_ processing completed at 2025-06-25 23:06:10.215380\n",
      "CON yld Irrigation High_ processing completed at 2025-06-25 23:06:14.320775\n",
      "COC evt Irrigation High_ processing completed at 2025-06-25 23:06:18.538998\n",
      "CAS yld Irrigation Low_ processing completed at 2025-06-25 23:06:22.603275\n",
      "SGC evt Rain-fed High_ processing completed at 2025-06-25 23:06:26.412782\n",
      "CON cwd Rain-fed Low_ processing completed at 2025-06-25 23:06:30.577732\n",
      "COC evt Rain-fed High_ processing completed at 2025-06-25 23:06:34.754361\n",
      "COC cwd Rain-fed High_ processing completed at 2025-06-25 23:06:38.369346\n",
      "precipitation prc_ processing completed at 2025-06-25 23:06:42.602890\n",
      "CON cwd Irrigation Low_ processing completed at 2025-06-25 23:06:46.775131\n",
      "MZE evt Rain-fed High_ processing completed at 2025-06-25 23:06:50.610845\n",
      "CON yld Rain-fed Low_ processing completed at 2025-06-25 23:06:54.845121\n",
      "SGC cwd Rain-fed Low_ processing completed at 2025-06-25 23:06:59.058321\n",
      "COC yld Rain-fed Low_ processing completed at 2025-06-25 23:07:03.084852\n",
      "CON evt Rain-fed Low_ processing completed at 2025-06-25 23:07:07.421183\n",
      "CON yld Irrigation Low_ processing completed at 2025-06-25 23:07:12.228762\n",
      "SGC evt Rain-fed Low_ processing completed at 2025-06-25 23:07:15.817732\n",
      "MZE yld Rain-fed High_ processing completed at 2025-06-25 23:07:20.017948\n",
      "COC cwd Rain-fed Low_ processing completed at 2025-06-25 23:07:24.242551\n",
      "BEA yld Irrigation High_ processing completed at 2025-06-25 23:07:28.400814\n",
      "MZE cwd Irrigation Low_ processing completed at 2025-06-25 23:07:31.892423\n",
      "COC yld Irrigation Low_ processing completed at 2025-06-25 23:07:35.261504\n",
      "CON cwd Rain-fed High_ processing completed at 2025-06-25 23:07:39.433486\n",
      "CAS yld Rain-fed Low_ processing completed at 2025-06-25 23:07:43.187893\n",
      "SGC evt Irrigation Low_ processing completed at 2025-06-25 23:07:47.391917\n",
      "CAS cwd Irrigation Low_ processing completed at 2025-06-25 23:07:51.638284\n",
      "MZE yld Irrigation Low_ processing completed at 2025-06-25 23:07:55.838436\n",
      "CAS cwd Rain-fed High_ processing completed at 2025-06-25 23:07:59.573922\n",
      "COC yld Rain-fed High_ processing completed at 2025-06-25 23:08:03.287279\n",
      "CAS cwd Irrigation High_ processing completed at 2025-06-25 23:08:07.548938\n",
      "MZE yld Rain-fed Low_ processing completed at 2025-06-25 23:08:11.434866\n",
      "COC evt Irrigation Low_ processing completed at 2025-06-25 23:08:15.559906\n",
      "MZE evt Irrigation High_ processing completed at 2025-06-25 23:08:19.648879\n",
      "CAS evt Irrigation Low_ processing completed at 2025-06-25 23:08:23.719118\n",
      "COC yld Irrigation High_ processing completed at 2025-06-25 23:08:27.854375\n",
      "SGC yld Rain-fed High_ processing completed at 2025-06-25 23:08:32.015203\n",
      "TEA yld Irrigation High_ processing completed at 2025-06-25 23:08:36.285739\n",
      "BEA yld Rain-fed High_ processing completed at 2025-06-25 23:08:40.281872\n",
      "MZE yld Irrigation High_ processing completed at 2025-06-25 23:08:44.521181\n",
      "SGC cwd Irrigation High_ processing completed at 2025-06-25 23:08:48.677311\n"
     ]
    }
   ],
   "source": [
    "for raster in raster_files_con:\n",
    "    prefix = raster.rstrip(\".tif\")\n",
    "    prefix = prefix + \"_\"\n",
    "    \n",
    "    # Calling the extraction function for continuous layers\n",
    "    land_cells = processing_raster_con(out_path_raster, raster, prefix, \"mean\", land_cells)"
   ]
  },
  {
   "cell_type": "markdown",
   "id": "5528f8ee-9bab-4740-88bb-9c2c79eccbdf",
   "metadata": {},
   "source": [
    "### 4.4.2. Categorical Datasets (e.g. Land cover type)"
   ]
  },
  {
   "cell_type": "code",
   "execution_count": 39,
   "id": "919accef-f46c-44cc-b153-364e6093cdae",
   "metadata": {},
   "outputs": [
    {
     "name": "stdout",
     "output_type": "stream",
     "text": [
      "LCType processing completed at 2025-06-25 23:08:52.937186\n"
     ]
    }
   ],
   "source": [
    "for raster in raster_files_dis:\n",
    "    prefix = raster.rstrip(\".tif\")\n",
    "    prefix = prefix.rstrip('_ncb')\n",
    "    \n",
    "    # Calling the extraction function for discrete layers\n",
    "    land_cells = processing_raster_cat(out_path_raster, raster, prefix, land_cells)"
   ]
  },
  {
   "cell_type": "markdown",
   "id": "8767be10-4341-4881-a67a-661626a65e58",
   "metadata": {},
   "source": [
    "### 4.4.3. Converting the GeoJSON File to GeoDataFrame\n",
    "\n",
    "**NOTE** In case you get an Driver Error for reading the geojson file into a GeoDataFrame, this might be cause due to attribution of \"inf\" or \"-inf\" value in one of the attributes. This is related to the way python handles json (see fix [here](https://stackoverflow.com/questions/17503981/is-there-a-way-to-override-pythons-json-handler)). An \"easy\" fix is that you import the geojson into Qgis and replace the erroneous value(s) manually. This is not ideal but it will do the job. In that case, save the updated geojson file and use the second (commented) line below to import into a GeoDataFrame."
   ]
  },
  {
   "cell_type": "code",
   "execution_count": 40,
   "id": "bd207b1d-7b73-4a8f-a1a4-28723f94023c",
   "metadata": {},
   "outputs": [
    {
     "name": "stdout",
     "output_type": "stream",
     "text": [
      "cluster created a new at 2025-06-25 23:08:53.399760\n"
     ]
    }
   ],
   "source": [
    "land_cells = geojson_to_gdf(out_path, land_cells)"
   ]
  },
  {
   "cell_type": "markdown",
   "id": "3acb0ec6-eec9-4a33-96fb-a783f2d89cc8",
   "metadata": {},
   "source": [
    "## 4.5. Exporting the GeoDataFrame as Vector Layer"
   ]
  },
  {
   "cell_type": "code",
   "execution_count": 41,
   "id": "c716b16a-3392-4fac-b178-0efa66ca9d9b",
   "metadata": {},
   "outputs": [],
   "source": [
    "# Export as csv\n",
    "land_cells.to_csv(os.path.join(out_path,\"{c}.csv\".format(c=result_nm)))"
   ]
  },
  {
   "cell_type": "code",
   "execution_count": 42,
   "id": "a247214d-80ec-4a8b-9bba-b2de4b1c9621",
   "metadata": {},
   "outputs": [
    {
     "name": "stdout",
     "output_type": "stream",
     "text": [
      "Part 4 complete!\n"
     ]
    }
   ],
   "source": [
    "# Export as GeoPackage \n",
    "land_cells.to_file(os.path.join(out_path,\"{c}.gpkg\".format(c=result_nm)),driver=\"GPKG\")\n",
    "print (\"Part 4 complete!\")"
   ]
  },
  {
   "cell_type": "markdown",
   "id": "44f9d4dc-73b6-4de0-9ec2-54ce786e60d4",
   "metadata": {
    "tags": []
   },
   "source": [
    "# Part 5: Spatial Clustering\n",
    "\n",
    "The study area is spatially clustered based on similarities in agro-ecological potential yield using the agglomerative hierarchical clustering method "
   ]
  },
  {
   "cell_type": "code",
   "execution_count": 43,
   "id": "dbc30ea8-3660-4a87-a229-82a70452b161",
   "metadata": {},
   "outputs": [
    {
     "data": {
      "text/markdown": [
       " List of regions:['GUY']"
      ],
      "text/plain": [
       "<IPython.core.display.Markdown object>"
      ]
     },
     "metadata": {},
     "output_type": "display_data"
    }
   ],
   "source": [
    "regions = list(land_cells['cluster'].unique())\n",
    "display ( Markdown(' List of regions:{}'.format (regions)))"
   ]
  },
  {
   "cell_type": "code",
   "execution_count": 44,
   "id": "82453ca6-900e-4bd8-8d25-f6dfed2a1933",
   "metadata": {},
   "outputs": [],
   "source": [
    "#For every regional cluster, create an individual gdf according to the administrative border level.\n",
    "\n",
    "regions_gdf = {}\n",
    "regions_list = []\n",
    "\n",
    "for i in regions:\n",
    "    region_name = 'region_'+ i\n",
    "    regions_list.append(region_name)\n",
    "    regions_gdf[region_name] = land_cells.loc[land_cells['cluster'] == i]\n"
   ]
  },
  {
   "cell_type": "code",
   "execution_count": 45,
   "id": "2e87836e",
   "metadata": {},
   "outputs": [],
   "source": [
    "#Normalizing GeoDataFrame\n",
    "clusters = land_cells\n",
    "columns_yld = [col for col in clusters.columns if \"yld\" in col]\n",
    "regions_normalized_list = []\n",
    "regions_normalized_gdf = {}\n",
    "\n",
    "for i in regions_list:\n",
    "    region_normalized_name = 'normalized_'+ i\n",
    "    regions_normalized_list.append(region_normalized_name)\n",
    "    regions_normalized_gdf[region_normalized_name] = regions_gdf[i][columns_yld]\n",
    "\n",
    "for i in regions_normalized_list:\n",
    "    for col in regions_normalized_gdf[i]. columns:\n",
    "        min_value = min(regions_normalized_gdf[i].loc[:, col])\n",
    "        max_value = max(regions_normalized_gdf[i].loc[:, col])\n",
    "        regions_normalized_gdf[i].loc[:, col] = (regions_normalized_gdf[i].loc[:, col] - min_value) / (max_value - min_value)"
   ]
  },
  {
   "cell_type": "markdown",
   "id": "681fd78d-fcfa-4a82-980a-f2f10002c952",
   "metadata": {},
   "source": [
    "## 5.1. Defining Functions"
   ]
  },
  {
   "cell_type": "code",
   "execution_count": 46,
   "id": "1c4a47cc-baab-40f5-bc4b-54051edd518b",
   "metadata": {},
   "outputs": [],
   "source": [
    "# Generating Dendrogram\n",
    "def generate_dendrogram (df, name):\n",
    "    \n",
    "    linkage_matrix_normalized = linkage(df.values, method='ward', metric='euclidean')\n",
    "    dendrogram(linkage_matrix_normalized)\n",
    "    plt.title('Dendrogram '+ name)\n",
    "    \n",
    "    file_path=os.path.join(out_path_dendrogram, name +\"_\" + \"{}_Dendrogram_Yield\".format(country_name))\n",
    "    plt.savefig(file_path)\n",
    "    plt.close()\n",
    "    #plt.show()\n"
   ]
  },
  {
   "cell_type": "code",
   "execution_count": 47,
   "id": "57964e92-9d4e-43b4-a133-951a1b21dcdd",
   "metadata": {},
   "outputs": [],
   "source": [
    "# Elbow Method\n",
    "\n",
    "os.environ[\"OMP_NUM_THREADS\"] = \"1\"\n",
    "\n",
    "def generate_elbow_graph (df, name):\n",
    "    \n",
    "    wcss = [] # Initialize a list to store the within-cluster sum of squares\n",
    "    \n",
    "    for k in range(1, 10): # Initial numbers of clusters to calculate WCSS\n",
    "        kmeans = KMeans(n_clusters=k, random_state=0, n_init='auto')\n",
    "        kmeans.fit(df)\n",
    "        wcss.append(kmeans.inertia_)  # Calculate WCSS for each k\n",
    "    \n",
    "    \n",
    "    # Plot the elbow graph values to identify the elbow point (optimum number of clusters)\n",
    "    plt.figure(figsize=(8, 10))\n",
    "    plt.plot(range(1, 10), wcss, marker='o', linestyle='-', color='b')\n",
    "    plt.title('Elbow Graph for Optimal Number of Clusters ' + name)\n",
    "    plt.xlabel('Number of Clusters (k)')\n",
    "    plt.ylabel('WCSS')\n",
    "    plt.grid()\n",
    "    \n",
    "    file_path=os.path.join(out_path_elbow, name +\"_\"+ \"{}_elbow_Yield\".format(country_name))\n",
    "    plt.savefig(file_path)\n",
    "    plt.close()\n",
    "    #plt.show()\n",
    "\n"
   ]
  },
  {
   "cell_type": "code",
   "execution_count": 48,
   "id": "61ccd128-c150-4835-a35b-3ead7be00b36",
   "metadata": {},
   "outputs": [],
   "source": [
    "# Define agglomerative clustering\n",
    "\n",
    "def agglomerative_clustering (gdf, df, n_clusters, name):\n",
    "    agglo_clustering = AgglomerativeClustering(n_clusters=number_cluster, linkage='ward')\n",
    "    gdf['clusters_yield'] = agglo_clustering.fit_predict(df)\n",
    "    # Adjust cluster numbers to start from 1\n",
    "    gdf['clusters_yield'] += 1\n",
    "\n",
    "    \n",
    "    gdf.plot(column='clusters_yield', cmap='viridis', legend=True)\n",
    "    plt.title('Clustered yield '+ name)\n",
    "    file_path_new = os.path.join(out_path_clustering , name + \"_\"+ \"{}_Clustered_Yield.png\".format(country_name))\n",
    "    plt.savefig(file_path_new)\n",
    "    #plt.close()\n",
    "    plt.show()\n",
    "    \n",
    "    \n",
    "    gdf.to_file(os.path.join(out_path_clustering , name+ \"_\" + \"{}_clustered_data.gpkg\".format(country_name)), driver=\"GPKG\")\n",
    "    gdf.to_csv(os.path.join(out_path_clustering , name+ \"_\" +\"{}_clustered_data.csv\".format(country_name)))\n",
    "    \n",
    "\n"
   ]
  },
  {
   "cell_type": "code",
   "execution_count": 49,
   "id": "bb842f68-fb1f-4fcc-8d1d-24b82c2c5c21",
   "metadata": {},
   "outputs": [
    {
     "name": "stderr",
     "output_type": "stream",
     "text": [
      "/tmp/ipykernel_7631/3207897947.py:2: SettingWithCopyWarning: \n",
      "A value is trying to be set on a copy of a slice from a DataFrame\n",
      "\n",
      "See the caveats in the documentation: https://pandas.pydata.org/pandas-docs/stable/user_guide/indexing.html#returning-a-view-versus-a-copy\n",
      "  regions_normalized_gdf[i].fillna(0, inplace=True)\n"
     ]
    }
   ],
   "source": [
    "for i in regions_normalized_list:\n",
    "    regions_normalized_gdf[i].fillna(0, inplace=True)"
   ]
  },
  {
   "cell_type": "code",
   "execution_count": 50,
   "id": "0267236b-7800-4e00-9143-e1dbc4286844",
   "metadata": {},
   "outputs": [],
   "source": [
    "#Generate dendrogram\n",
    "for i in regions_normalized_list:\n",
    "    generate_dendrogram (regions_normalized_gdf[i],i)"
   ]
  },
  {
   "cell_type": "code",
   "execution_count": 51,
   "id": "00523a58-0e8c-4143-a233-f723f6de31ee",
   "metadata": {},
   "outputs": [],
   "source": [
    "# generate elbow graph for each region  \n",
    "with warnings.catch_warnings():\n",
    "    warnings.simplefilter(\"ignore\", category=UserWarning)\n",
    "    \n",
    "    for i in regions_normalized_list:\n",
    "        generate_elbow_graph (regions_normalized_gdf[i],i)"
   ]
  },
  {
   "cell_type": "markdown",
   "id": "56b139bb-1a15-4c9c-b331-c00c06853b5b",
   "metadata": {},
   "source": [
    "## 5.2. User Input for Spatial Clustering \n",
    "Determine the optimal number of clusters using the generated dendrogram and elbow graphs that have been generated and stored within the 'Data\\output' directory."
   ]
  },
  {
   "cell_type": "code",
   "execution_count": 53,
   "id": "a61ae1ae-b82e-4eec-bbc7-94ccc07b74f5",
   "metadata": {},
   "outputs": [
    {
     "name": "stdin",
     "output_type": "stream",
     "text": [
      "Enter the optimum number of clusters in normalized_region_GUY (or press Enter for default):  4\n"
     ]
    },
    {
     "data": {
      "image/png": "[encoded data removed]",
      "text/plain": [
       "<Figure size 640x480 with 2 Axes>"
      ]
     },
     "metadata": {},
     "output_type": "display_data"
    }
   ],
   "source": [
    "\n",
    "# Choose optimum number of clusters\n",
    "default_cluster = 3  # Default number of clusters\n",
    "\n",
    "for i in regions_normalized_list:\n",
    "    user_input = input(\"Enter the optimum number of clusters in {} (or press Enter for default): \".format(i))\n",
    "\n",
    "    # Use the user input or the default value\n",
    "    number_cluster = int(user_input.strip()) if user_input else default_cluster\n",
    "\n",
    "    for j in regions_list:\n",
    "        if j in i:\n",
    "            # Perform agglomerative hierarchical clustering\n",
    "            agglomerative_clustering (regions_gdf[j], regions_normalized_gdf[i] , number_cluster, j)\n"
   ]
  },
  {
   "cell_type": "markdown",
   "id": "8dc706fd-0f12-48f9-be4c-c27446a56748",
   "metadata": {
    "tags": []
   },
   "source": [
    "# Part 6: Statistics Calculation\n",
    "\n",
    "This part calculates summary statistics for the generated clusters. There outputs include:\n",
    "\n",
    "* Tabular summaries (.csv format) grouped by cluster"
   ]
  },
  {
   "cell_type": "markdown",
   "id": "99dcb6ff-a7ff-466f-bf9e-6d47ebefa199",
   "metadata": {},
   "source": [
    "## 6.1. Calculating Cluster Summaries"
   ]
  },
  {
   "cell_type": "code",
   "execution_count": 54,
   "id": "c40422e7-21bb-40f6-901c-81329a495b52",
   "metadata": {},
   "outputs": [],
   "source": [
    "#Collect Names of Attributes Assigned to the Clusters\n",
    "origin_list_of_cols = list(final_clustered_GAEZ_gdf.columns)\n",
    "final_list_of_cols = list(land_cells.columns)"
   ]
  },
  {
   "cell_type": "code",
   "execution_count": 55,
   "id": "cac6b775-e61b-419d-9746-2f76a26b6d13",
   "metadata": {},
   "outputs": [],
   "source": [
    "# Land cover area estimator\n",
    "def calc_LC_sqkm(df, col_list):\n",
    "    \"\"\" \n",
    "    This function takes the df where the LC type for different classes is provided per location (row).\n",
    "    It adds all pixels per location; then is calculates the ratio of LC class in each location (% of total).\n",
    "    Finally is estimates the area per LC type in each location by multiplying with the total area each row represents.\n",
    "    \n",
    "    INPUT: \n",
    "    df -> Pandas dataframe with LC type classification \n",
    "    col_list -> list of columns to include in the summary (e.g. LC1-LC11)\n",
    "    \n",
    "    OUTPUT: Updated dataframe with estimated area (sqkm) of LC types per row\n",
    "    \"\"\"\n",
    "    df[\"LC_sum\"] = df[col_list].sum(axis=1)\n",
    "    for col in col_list:\n",
    "        df[col] = df[col]/df[\"LC_sum\"]*df[\"sqkm\"]\n",
    "    \n",
    "    return df\n"
   ]
  },
  {
   "cell_type": "code",
   "execution_count": 56,
   "id": "6a786784-471f-4742-810d-a08d69d67a05",
   "metadata": {
    "code_folding": [
     0
    ]
   },
   "outputs": [],
   "source": [
    "# Identify land cover related columns\n",
    "landCover_cols = []\n",
    "for col in final_list_of_cols:\n",
    "    if \"LCType\" in col:\n",
    "        landCover_cols.append(col)\n",
    "if not landCover_cols:\n",
    "    print (\"There is not any Land Cover associated column in the dataframe; please revise\")\n",
    "else:\n",
    "    pass"
   ]
  },
  {
   "cell_type": "code",
   "execution_count": 57,
   "id": "e8f3af72-9ae5-46dd-88ba-ac829ba8797c",
   "metadata": {},
   "outputs": [],
   "source": [
    "data_gdf_LCsqkm_list = []\n",
    "data_gdf_LCsqkm = {}\n",
    "\n",
    "for i in regions_list:\n",
    "    data_gdf_LCsqkm_name = 'data_gdf_LCsqkm_'+ i\n",
    "    data_gdf_LCsqkm_list.append(data_gdf_LCsqkm_name)\n",
    "    data_gdf_LCsqkm [data_gdf_LCsqkm_name]= calc_LC_sqkm (regions_gdf[i], landCover_cols)"
   ]
  },
  {
   "cell_type": "markdown",
   "id": "5dd40402-0264-4a24-8f65-de0aa3251674",
   "metadata": {},
   "source": [
    "## 6.2 Unit Conversion  "
   ]
  },
  {
   "cell_type": "code",
   "execution_count": 58,
   "id": "af8a35d9-50cf-4e02-b974-88623b8f78b2",
   "metadata": {},
   "outputs": [],
   "source": [
    "#new\n",
    "# Calculate summary statistics for other than land cover attribute columns\n",
    "data_gdf_stat = data_gdf_LCsqkm\n",
    "\n",
    "# Define the conversion factor for CLEWs modelling\n",
    "#Potential yield unit conversion from kg DW/ha to million tonnes per 1000 sqkm\n",
    "factor1 = 0.0001 \n",
    "\n",
    "#Other parameter unit conversion from millimeter to BCM per 1000 sqkm\n",
    "factor2 = 0.001\n",
    "\n",
    "for i in data_gdf_LCsqkm_list:\n",
    "    for col in data_gdf_stat[i].columns:\n",
    "\n",
    "        if \"yld\" in col:\n",
    "            data_gdf_stat[i].loc[:, col] *= factor1\n",
    "        elif \"evt\" in col: \n",
    "            data_gdf_stat[i].loc[:, col] *= factor2\n",
    "        elif \"prc\" in col: \n",
    "            data_gdf_stat[i].loc[:, col] *= factor2\n",
    "        elif \"cwd\" in col: \n",
    "            data_gdf_stat[i].loc[:, col] *= factor2     \n",
    "    final_list_of_cols = list(data_gdf_stat[i].columns)\n"
   ]
  },
  {
   "cell_type": "code",
   "execution_count": 59,
   "id": "4d799899-517a-42ec-9530-3231f762670f",
   "metadata": {},
   "outputs": [],
   "source": [
    "\n",
    "sum_cols = [x for x in final_list_of_cols if x not in origin_list_of_cols]\n",
    "sum_cols = [x for x in sum_cols if x not in landCover_cols]\n",
    "sum_cols.remove(\"id\")\n",
    "sum_cols.remove(\"LC_sum\")"
   ]
  },
  {
   "cell_type": "markdown",
   "id": "fa8f6297-7217-42e8-9733-b5d259fde3fa",
   "metadata": {},
   "source": [
    "## 6.3. Land Cover and Area Statistics"
   ]
  },
  {
   "cell_type": "code",
   "execution_count": 60,
   "id": "c4502c51",
   "metadata": {},
   "outputs": [
    {
     "data": {
      "text/markdown": [
       "#### Cluster summary statistics for area and land cover in GUY"
      ],
      "text/plain": [
       "<IPython.core.display.Markdown object>"
      ]
     },
     "metadata": {},
     "output_type": "display_data"
    },
    {
     "data": {
      "text/markdown": [
       " **Total area:** 209877.6 sq.km"
      ],
      "text/plain": [
       "<IPython.core.display.Markdown object>"
      ]
     },
     "metadata": {},
     "output_type": "display_data"
    },
    {
     "data": {
      "text/html": [
       "<div>\n",
       "<style scoped>\n",
       "    .dataframe tbody tr th:only-of-type {\n",
       "        vertical-align: middle;\n",
       "    }\n",
       "\n",
       "    .dataframe tbody tr th {\n",
       "        vertical-align: top;\n",
       "    }\n",
       "\n",
       "    .dataframe thead th {\n",
       "        text-align: right;\n",
       "    }\n",
       "</style>\n",
       "<table border=\"1\" class=\"dataframe\">\n",
       "  <thead>\n",
       "    <tr style=\"text-align: right;\">\n",
       "      <th></th>\n",
       "      <th>clusters_yield</th>\n",
       "      <th>LCType2</th>\n",
       "      <th>LCType3</th>\n",
       "      <th>LCType6</th>\n",
       "      <th>LCType7</th>\n",
       "      <th>LCType10</th>\n",
       "      <th>sqkm</th>\n",
       "    </tr>\n",
       "  </thead>\n",
       "  <tbody>\n",
       "    <tr>\n",
       "      <th>0</th>\n",
       "      <td>1</td>\n",
       "      <td>79218.0</td>\n",
       "      <td>1310.9</td>\n",
       "      <td>6852.8</td>\n",
       "      <td>725.2</td>\n",
       "      <td>4416.1</td>\n",
       "      <td>92522.9</td>\n",
       "    </tr>\n",
       "    <tr>\n",
       "      <th>1</th>\n",
       "      <td>2</td>\n",
       "      <td>46597.1</td>\n",
       "      <td>49.7</td>\n",
       "      <td>149.0</td>\n",
       "      <td>322.9</td>\n",
       "      <td>0.0</td>\n",
       "      <td>47118.7</td>\n",
       "    </tr>\n",
       "    <tr>\n",
       "      <th>2</th>\n",
       "      <td>3</td>\n",
       "      <td>15087.5</td>\n",
       "      <td>0.0</td>\n",
       "      <td>755.1</td>\n",
       "      <td>49.7</td>\n",
       "      <td>0.0</td>\n",
       "      <td>15990.9</td>\n",
       "    </tr>\n",
       "    <tr>\n",
       "      <th>3</th>\n",
       "      <td>4</td>\n",
       "      <td>43076.1</td>\n",
       "      <td>6258.7</td>\n",
       "      <td>2364.5</td>\n",
       "      <td>1932.6</td>\n",
       "      <td>613.1</td>\n",
       "      <td>54245.1</td>\n",
       "    </tr>\n",
       "  </tbody>\n",
       "</table>\n",
       "</div>"
      ],
      "text/plain": [
       "   clusters_yield  LCType2  LCType3  LCType6  LCType7  LCType10     sqkm\n",
       "0               1  79218.0   1310.9   6852.8    725.2    4416.1  92522.9\n",
       "1               2  46597.1     49.7    149.0    322.9       0.0  47118.7\n",
       "2               3  15087.5      0.0    755.1     49.7       0.0  15990.9\n",
       "3               4  43076.1   6258.7   2364.5   1932.6     613.1  54245.1"
      ]
     },
     "metadata": {},
     "output_type": "display_data"
    }
   ],
   "source": [
    "group_lc = {}\n",
    "\n",
    "for key, gdf in data_gdf_stat.items():\n",
    "    # Group by 'clusters_yield'\n",
    "    clusters = gdf.groupby(['clusters_yield'])\n",
    "    \n",
    "    \n",
    "    clusters_lc = clusters[landCover_cols].sum().merge(clusters[\"sqkm\"].sum().reset_index(name=\"sqkm\"), on=\"clusters_yield\").round(decimals=1)\n",
    "    clusters_lc = clusters_lc.sort_values(ascending=True, by='clusters_yield').reset_index(drop=True)\n",
    "    name = key[-3:]\n",
    "    \n",
    "    #Export land cover stats to csv\n",
    "    clusters_lc.to_csv(os.path.join(summary_stats_path,\"{}_LandCover_byCluster_summary.csv\".format(name)),index_label='cluster')\n",
    "\n",
    "    # Display summary statistics\n",
    "    display(Markdown('#### Cluster summary statistics for area and land cover in {}'.format(name)))\n",
    "    display(Markdown(' **Total area:** {:0.1f} sq.km'.format(clusters_lc.sqkm.sum())))\n",
    "    display(clusters_lc)\n",
    "\n",
    "    # Store the result in the group_dic dictionary\n",
    "    group_lc[key] = clusters_lc\n",
    "\n"
   ]
  },
  {
   "cell_type": "markdown",
   "id": "b1dcf92d-a50e-405c-96f1-c565a3340292",
   "metadata": {},
   "source": [
    "### 6.4. Calculating the Average of Additional Crops"
   ]
  },
  {
   "cell_type": "code",
   "execution_count": 61,
   "id": "0ccbf90f-af5f-413b-a595-dd420ecd364e",
   "metadata": {},
   "outputs": [],
   "source": [
    "#Add new column contain average value of five to ten in the top 10 crops \n",
    "def additional_stat_group(parameter):\n",
    "    selected_group = [col for col in additional_stat_table_group.columns if parameter in col]\n",
    "\n",
    "    selected_group = additional_stat_table_group.loc[:, selected_group]\n",
    "    \n",
    "    Irrigation_Low_group = selected_group.loc[:, [a for a in selected_group.columns if 'Irrigation Low' in a]]\n",
    "    Low_group = round(Irrigation_Low_group.mean(axis=1),4)\n",
    "    clusters_stat['OTH'+' '+ parameter +' '+'Irrigation Low_mean'] = Low_group\n",
    "    \n",
    "    Irrigation_High_group = selected_group.loc[:, [a for a in selected_group.columns if 'Irrigation High' in a]]\n",
    "    High_group = round(Irrigation_High_group.mean(axis=1),4)            \n",
    "    clusters_stat['OTH'+' '+ parameter +' '+ 'Irrigation High_mean'] = High_group    \n",
    "\n",
    "\n",
    "    Rain_fed_Low_group = selected_group.loc[:, [a for a in selected_group.columns if 'Rain-fed Low' in a]]   \n",
    "    Rain_Low = round(Rain_fed_Low_group.mean(axis=1),4)            \n",
    "    clusters_stat['OTH'+' '+ parameter +' '+ 'Rain-fed Low_mean'] = Rain_Low \n",
    "                \n",
    "    Rain_fed_High_group = selected_group.loc[:, [a for a in selected_group.columns if 'Rain-fed High' in a]]         \n",
    "    Rain_High = round(Rain_fed_High_group.mean(axis=1),4)               \n",
    "    clusters_stat['OTH'+' '+ parameter +' '+ 'Rain-fed High_mean'] =Rain_High  \n"
   ]
  },
  {
   "cell_type": "markdown",
   "id": "7d4fafaa-4d3d-4ccf-85bc-13305116e6d4",
   "metadata": {},
   "source": [
    "### 6.5. Other Variable Statistics"
   ]
  },
  {
   "cell_type": "code",
   "execution_count": 62,
   "id": "f8ce3599-795f-48fa-83bc-e2ed0a1ba9d3",
   "metadata": {},
   "outputs": [
    {
     "data": {
      "text/markdown": [
       "#### Cluster summary statistics for other variables in GUY"
      ],
      "text/plain": [
       "<IPython.core.display.Markdown object>"
      ]
     },
     "metadata": {},
     "output_type": "display_data"
    },
    {
     "data": {
      "text/html": [
       "<div>\n",
       "<style scoped>\n",
       "    .dataframe tbody tr th:only-of-type {\n",
       "        vertical-align: middle;\n",
       "    }\n",
       "\n",
       "    .dataframe tbody tr th {\n",
       "        vertical-align: top;\n",
       "    }\n",
       "\n",
       "    .dataframe thead th {\n",
       "        text-align: right;\n",
       "    }\n",
       "</style>\n",
       "<table border=\"1\" class=\"dataframe\">\n",
       "  <thead>\n",
       "    <tr style=\"text-align: right;\">\n",
       "      <th></th>\n",
       "      <th>MZE cwd Rain-fed Low_mean</th>\n",
       "      <th>CON evt Irrigation High_mean</th>\n",
       "      <th>CON evt Rain-fed High_mean</th>\n",
       "      <th>CON evt Irrigation Low_mean</th>\n",
       "      <th>SGC cwd Rain-fed High_mean</th>\n",
       "      <th>MZE evt Irrigation Low_mean</th>\n",
       "      <th>SGC evt Irrigation High_mean</th>\n",
       "      <th>CON yld Rain-fed High_mean</th>\n",
       "      <th>MZE cwd Irrigation High_mean</th>\n",
       "      <th>SGC yld Irrigation Low_mean</th>\n",
       "      <th>...</th>\n",
       "      <th>OTH yld Rain-fed Low_mean</th>\n",
       "      <th>OTH yld Rain-fed High_mean</th>\n",
       "      <th>OTH cwd Irrigation Low_mean</th>\n",
       "      <th>OTH cwd Irrigation High_mean</th>\n",
       "      <th>OTH cwd Rain-fed Low_mean</th>\n",
       "      <th>OTH cwd Rain-fed High_mean</th>\n",
       "      <th>OTH evt Irrigation Low_mean</th>\n",
       "      <th>OTH evt Irrigation High_mean</th>\n",
       "      <th>OTH evt Rain-fed Low_mean</th>\n",
       "      <th>OTH evt Rain-fed High_mean</th>\n",
       "    </tr>\n",
       "    <tr>\n",
       "      <th>clusters_yield</th>\n",
       "      <th></th>\n",
       "      <th></th>\n",
       "      <th></th>\n",
       "      <th></th>\n",
       "      <th></th>\n",
       "      <th></th>\n",
       "      <th></th>\n",
       "      <th></th>\n",
       "      <th></th>\n",
       "      <th></th>\n",
       "      <th></th>\n",
       "      <th></th>\n",
       "      <th></th>\n",
       "      <th></th>\n",
       "      <th></th>\n",
       "      <th></th>\n",
       "      <th></th>\n",
       "      <th></th>\n",
       "      <th></th>\n",
       "      <th></th>\n",
       "      <th></th>\n",
       "    </tr>\n",
       "  </thead>\n",
       "  <tbody>\n",
       "    <tr>\n",
       "      <th>1</th>\n",
       "      <td>0.001</td>\n",
       "      <td>0.8357</td>\n",
       "      <td>0.8829</td>\n",
       "      <td>0.7320</td>\n",
       "      <td>0.0810</td>\n",
       "      <td>0.4168</td>\n",
       "      <td>1.1994</td>\n",
       "      <td>0.4763</td>\n",
       "      <td>0.0044</td>\n",
       "      <td>0.2717</td>\n",
       "      <td>...</td>\n",
       "      <td>0.1690</td>\n",
       "      <td>0.6270</td>\n",
       "      <td>0.0011</td>\n",
       "      <td>0.0252</td>\n",
       "      <td>0.0246</td>\n",
       "      <td>0.0238</td>\n",
       "      <td>0.8101</td>\n",
       "      <td>0.9095</td>\n",
       "      <td>0.7938</td>\n",
       "      <td>0.9379</td>\n",
       "    </tr>\n",
       "    <tr>\n",
       "      <th>2</th>\n",
       "      <td>0.001</td>\n",
       "      <td>0.8554</td>\n",
       "      <td>0.8719</td>\n",
       "      <td>0.6126</td>\n",
       "      <td>0.0242</td>\n",
       "      <td>0.4263</td>\n",
       "      <td>1.2343</td>\n",
       "      <td>0.4307</td>\n",
       "      <td>0.0117</td>\n",
       "      <td>0.2748</td>\n",
       "      <td>...</td>\n",
       "      <td>0.1349</td>\n",
       "      <td>0.5930</td>\n",
       "      <td>0.0010</td>\n",
       "      <td>0.0020</td>\n",
       "      <td>0.0028</td>\n",
       "      <td>0.0144</td>\n",
       "      <td>0.8230</td>\n",
       "      <td>0.9468</td>\n",
       "      <td>0.8347</td>\n",
       "      <td>0.9294</td>\n",
       "    </tr>\n",
       "    <tr>\n",
       "      <th>3</th>\n",
       "      <td>0.001</td>\n",
       "      <td>0.4858</td>\n",
       "      <td>0.4969</td>\n",
       "      <td>0.0550</td>\n",
       "      <td>0.0116</td>\n",
       "      <td>0.4144</td>\n",
       "      <td>1.1889</td>\n",
       "      <td>0.2628</td>\n",
       "      <td>0.0010</td>\n",
       "      <td>0.3756</td>\n",
       "      <td>...</td>\n",
       "      <td>0.1481</td>\n",
       "      <td>0.6488</td>\n",
       "      <td>0.0010</td>\n",
       "      <td>0.0010</td>\n",
       "      <td>0.0010</td>\n",
       "      <td>0.0017</td>\n",
       "      <td>0.7782</td>\n",
       "      <td>0.9010</td>\n",
       "      <td>0.7773</td>\n",
       "      <td>0.8834</td>\n",
       "    </tr>\n",
       "    <tr>\n",
       "      <th>4</th>\n",
       "      <td>0.001</td>\n",
       "      <td>0.7821</td>\n",
       "      <td>0.8771</td>\n",
       "      <td>0.0355</td>\n",
       "      <td>0.2257</td>\n",
       "      <td>0.4372</td>\n",
       "      <td>1.1681</td>\n",
       "      <td>0.4472</td>\n",
       "      <td>0.0129</td>\n",
       "      <td>0.2804</td>\n",
       "      <td>...</td>\n",
       "      <td>0.2085</td>\n",
       "      <td>0.6218</td>\n",
       "      <td>0.0080</td>\n",
       "      <td>0.1010</td>\n",
       "      <td>0.1342</td>\n",
       "      <td>0.0769</td>\n",
       "      <td>0.8562</td>\n",
       "      <td>0.8680</td>\n",
       "      <td>0.7545</td>\n",
       "      <td>0.9086</td>\n",
       "    </tr>\n",
       "  </tbody>\n",
       "</table>\n",
       "<p>4 rows × 56 columns</p>\n",
       "</div>"
      ],
      "text/plain": [
       "                MZE cwd Rain-fed Low_mean  CON evt Irrigation High_mean  \\\n",
       "clusters_yield                                                            \n",
       "1                                   0.001                        0.8357   \n",
       "2                                   0.001                        0.8554   \n",
       "3                                   0.001                        0.4858   \n",
       "4                                   0.001                        0.7821   \n",
       "\n",
       "                CON evt Rain-fed High_mean  CON evt Irrigation Low_mean  \\\n",
       "clusters_yield                                                            \n",
       "1                                   0.8829                       0.7320   \n",
       "2                                   0.8719                       0.6126   \n",
       "3                                   0.4969                       0.0550   \n",
       "4                                   0.8771                       0.0355   \n",
       "\n",
       "                SGC cwd Rain-fed High_mean  MZE evt Irrigation Low_mean  \\\n",
       "clusters_yield                                                            \n",
       "1                                   0.0810                       0.4168   \n",
       "2                                   0.0242                       0.4263   \n",
       "3                                   0.0116                       0.4144   \n",
       "4                                   0.2257                       0.4372   \n",
       "\n",
       "                SGC evt Irrigation High_mean  CON yld Rain-fed High_mean  \\\n",
       "clusters_yield                                                             \n",
       "1                                     1.1994                      0.4763   \n",
       "2                                     1.2343                      0.4307   \n",
       "3                                     1.1889                      0.2628   \n",
       "4                                     1.1681                      0.4472   \n",
       "\n",
       "                MZE cwd Irrigation High_mean  SGC yld Irrigation Low_mean  \\\n",
       "clusters_yield                                                              \n",
       "1                                     0.0044                       0.2717   \n",
       "2                                     0.0117                       0.2748   \n",
       "3                                     0.0010                       0.3756   \n",
       "4                                     0.0129                       0.2804   \n",
       "\n",
       "                ...  OTH yld Rain-fed Low_mean  OTH yld Rain-fed High_mean  \\\n",
       "clusters_yield  ...                                                          \n",
       "1               ...                     0.1690                      0.6270   \n",
       "2               ...                     0.1349                      0.5930   \n",
       "3               ...                     0.1481                      0.6488   \n",
       "4               ...                     0.2085                      0.6218   \n",
       "\n",
       "                OTH cwd Irrigation Low_mean  OTH cwd Irrigation High_mean  \\\n",
       "clusters_yield                                                              \n",
       "1                                    0.0011                        0.0252   \n",
       "2                                    0.0010                        0.0020   \n",
       "3                                    0.0010                        0.0010   \n",
       "4                                    0.0080                        0.1010   \n",
       "\n",
       "                OTH cwd Rain-fed Low_mean  OTH cwd Rain-fed High_mean  \\\n",
       "clusters_yield                                                          \n",
       "1                                  0.0246                      0.0238   \n",
       "2                                  0.0028                      0.0144   \n",
       "3                                  0.0010                      0.0017   \n",
       "4                                  0.1342                      0.0769   \n",
       "\n",
       "                OTH evt Irrigation Low_mean  OTH evt Irrigation High_mean  \\\n",
       "clusters_yield                                                              \n",
       "1                                    0.8101                        0.9095   \n",
       "2                                    0.8230                        0.9468   \n",
       "3                                    0.7782                        0.9010   \n",
       "4                                    0.8562                        0.8680   \n",
       "\n",
       "                OTH evt Rain-fed Low_mean  OTH evt Rain-fed High_mean  \n",
       "clusters_yield                                                         \n",
       "1                                  0.7938                      0.9379  \n",
       "2                                  0.8347                      0.9294  \n",
       "3                                  0.7773                      0.8834  \n",
       "4                                  0.7545                      0.9086  \n",
       "\n",
       "[4 rows x 56 columns]"
      ]
     },
     "metadata": {},
     "output_type": "display_data"
    }
   ],
   "source": [
    "group_stat = {}\n",
    "for key, gdf in data_gdf_stat.items():\n",
    "    # Group by 'clusters_yield'\n",
    "    clusters = gdf.groupby(['clusters_yield'])\n",
    "    \n",
    "    clusters_stat = clusters[sum_cols].mean().round(decimals = 4)\n",
    "\n",
    "    \n",
    "    additional_crop_stat_group = [col for col in clusters_stat.columns if any(a in col for a in other_crop_name)]\n",
    "    additional_stat_table_group = clusters_stat.loc[:, additional_crop_stat_group].copy()\n",
    "    clusters_stat = clusters_stat.drop(additional_stat_table_group, axis=1)\n",
    "    \n",
    "    additional_stat_group('yld')\n",
    "    additional_stat_group('cwd')\n",
    "    additional_stat_group('evt')\n",
    "    \n",
    "    name = key[-3:]\n",
    "    \n",
    "    display(Markdown('#### Cluster summary statistics for other variables in {}'.format(name)))\n",
    "    display(clusters_stat)\n",
    "\n",
    "    \n",
    "    group_stat[key] = clusters_stat\n",
    "    "
   ]
  },
  {
   "cell_type": "markdown",
   "id": "e8501b5d-36bb-4ac2-b15c-39bbe6aedc7b",
   "metadata": {},
   "source": [
    "## 6.6. Generate clewsy-compatible Statistics"
   ]
  },
  {
   "cell_type": "code",
   "execution_count": 63,
   "id": "a147d8c0-b4cc-4590-af15-444d0d34eb4c",
   "metadata": {},
   "outputs": [],
   "source": [
    "for key, gdf in group_stat.items():    \n",
    "    clusters_other = gdf\n",
    "    \n",
    "    name = key[-3:]\n",
    "\n",
    "    # generating the crop potential yeild csv files\n",
    "    yld_columns = [col for col in clusters_other.columns if 'yld' in col]\n",
    "    yld_df = clusters_other[yld_columns]\n",
    "\n",
    "    # Name correction according clewsy format\n",
    "    yld_rename = {col: col.replace(' yld', '').replace('_mean', '') for col in yld_df.columns}\n",
    "    yld_df = yld_df.rename(columns=yld_rename)\n",
    "    empty_yld = pd.DataFrame(columns=['', '', '', '','', '', '', '', ''],index= yld_df.index)\n",
    "    combined_yld = pd.concat([empty_yld, yld_df], axis=1)\n",
    "\n",
    "    #Store as CSV file\n",
    "    combined_yld.to_csv(os.path.join(summary_stats_path,\"clustering_results_{}.csv\".format(name)), index= True, index_label='cluster')\n",
    "\n",
    "\n",
    "    # generating crop evapotranspiration csv files\n",
    "    evt_columns = [col for col in clusters_other.columns if 'evt' in col]\n",
    "    evt_df = clusters_other[evt_columns]\n",
    "\n",
    "    # Name correction\n",
    "    evt_rename = {col: col.replace(' evt', '').replace('_mean', '') for col in evt_df.columns}\n",
    "    evt_df = evt_df.rename(columns=evt_rename)\n",
    "    empty_evt = pd.DataFrame(columns=['', '', '', '','', '', '', '', ''],index= evt_df.index)\n",
    "    combined_evt = pd.concat([empty_evt, evt_df], axis=1)\n",
    "\n",
    "    combined_evt.to_csv(os.path.join(summary_stats_path,\"clustering_results_evt_{}.csv\".format(name)), index= True, index_label='cluster')\n",
    "\n",
    "\n",
    "\n",
    "    #generating crop water deficit csv files \n",
    "    cwd_columns = [col for col in clusters_other.columns if 'cwd' in col]\n",
    "    cwd_df = clusters_other[cwd_columns]\n",
    "\n",
    "    # Name correction\n",
    "    cwd_rename = {col: col.replace(' cwd', '').replace('_mean', '') for col in cwd_df.columns}\n",
    "    cwd_df = cwd_df.rename(columns=cwd_rename)\n",
    "    empty_cwd = pd.DataFrame(columns=['', '', '', '','', '', '', '', ''],index= cwd_df .index)\n",
    "    combined_cwd = pd.concat([empty_cwd, cwd_df], axis=1)\n",
    "\n",
    "    combined_cwd.to_csv(os.path.join(summary_stats_path,\"clustering_results_cwd_{}.csv\".format(name)), index= True, index_label='cluster')\n",
    "\n",
    "\n",
    "    # generating precipitation csv files\n",
    "    prc_columns = [col for col in clusters_other.columns if 'prc' in col]\n",
    "    prc_df = clusters_other[prc_columns]\n",
    "\n",
    "    prc_rename = {col: col.replace(' prc', '').replace('_mean', '') for col in prc_df.columns}\n",
    "    prc_df = prc_df.rename(columns=prc_rename)\n",
    "\n",
    "    prc_df.to_csv(os.path.join(summary_stats_path,\"clustering_results_prc_{}.csv\".format(name)), index= True, index_label='cluster')\n",
    "\n",
    "\n",
    "    #Export summary stats to csv\n",
    "    clusters_other.to_csv(os.path.join(summary_stats_path,\"{}_Parameter_byCluster_summary.csv\".format(name)))\n"
   ]
  },
  {
   "cell_type": "code",
   "execution_count": 64,
   "id": "cdef67bb-0398-45fa-b7bf-5c36855fba87",
   "metadata": {},
   "outputs": [
    {
     "name": "stdout",
     "output_type": "stream",
     "text": [
      "Part 6 - and with that the analysis - completed!\n",
      "Total elapsed time: 00:13:10\n"
     ]
    }
   ],
   "source": [
    "print (\"Part 6 - and with that the analysis - completed!\")\n",
    "print (\"Total elapsed time: {}\".format(time.strftime(\"%H:%M:%S\", time.gmtime(time.time() - start_time))))"
   ]
  },
  {
   "cell_type": "code",
   "execution_count": null,
   "id": "ec747918-7b52-456a-8539-00fc3d9c93bb",
   "metadata": {},
   "outputs": [],
   "source": []
  },
  {
   "cell_type": "code",
   "execution_count": null,
   "id": "ef9cb636-67fe-4733-84f0-27baf0247055",
   "metadata": {},
   "outputs": [],
   "source": []
  },
  {
   "cell_type": "code",
   "execution_count": null,
   "id": "95f50ed9-1feb-4e0b-896e-f1445d58e115",
   "metadata": {},
   "outputs": [],
   "source": []
  },
  {
   "cell_type": "code",
   "execution_count": null,
   "id": "e36c6d02-7ae1-47dc-9c7a-bcc55bcd8a5f",
   "metadata": {},
   "outputs": [],
   "source": []
  },
  {
   "cell_type": "code",
   "execution_count": null,
   "id": "18bcf264-b689-46ee-b056-ff669660e653",
   "metadata": {},
   "outputs": [],
   "source": []
  },
  {
   "cell_type": "code",
   "execution_count": null,
   "id": "4ba55369-d9fb-4f89-bd73-f52ac4903da4",
   "metadata": {},
   "outputs": [],
   "source": []
  },
  {
   "cell_type": "code",
   "execution_count": null,
   "id": "e2931401-d2a9-4cdb-9747-1bb6263fe7e2",
   "metadata": {},
   "outputs": [],
   "source": []
  }
 ],
 "metadata": {
  "kernelspec": {
   "display_name": "Python 3 (ipykernel)",
   "language": "python",
   "name": "python3"
  },
  "language_info": {
   "codemirror_mode": {
    "name": "ipython",
    "version": 3
   },
   "file_extension": ".py",
   "mimetype": "text/x-python",
   "name": "python",
   "nbconvert_exporter": "python",
   "pygments_lexer": "ipython3",
   "version": "3.13.5"
  }
 },
 "nbformat": 4,
 "nbformat_minor": 5
}
