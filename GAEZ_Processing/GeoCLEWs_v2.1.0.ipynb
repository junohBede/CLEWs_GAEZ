{
 "cells": [
  {
   "cell_type": "markdown",
   "id": "90debf4d-bcea-4601-9561-f01f1c1abb01",
   "metadata": {},
   "source": [
    "# GeoCLEWs\n",
    "\n",
    "**Revised code:** [Yalda Saedi](https://github.com/Ysaedi) <br />\n",
    "**Supervision:** [Taco Niet](https://github.com/tniet) <br />\n",
    "**Funding** [Mitacs](https://www.mitacs.ca/en) and [Catalyste+](https://www.catalysteplus.org/)\n",
    "\n",
    "---------------------------"
   ]
  },
  {
   "cell_type": "markdown",
   "id": "92b284c8-8e21-4b92-a3c6-8cb6f46b09ac",
   "metadata": {
    "jp-MarkdownHeadingCollapsed": true,
    "tags": []
   },
   "source": [
    "## Summary\n",
    "\n",
    "GeoCLEWs is a versatile open-source script that offers a wide range of useful features for both developers and users. The script streamlines the detailed land and water processing steps required for Climate Land Energy Water systems (CLEWs) modelling. It is designed to efficiently collect, modify, and process  high-resolution land and water data from Global Agro-ecological Zones (GAEZ v4) database in an automated manner. GeoCLEWs processes agro-climatic potential yield, crop water deficit, crop evapotranspiration, precipitation, and land cover datasets.\n",
    "\n",
    "\n",
    "This notebook builds upon the [CLEWs GIS Processing notbook](https://github.com/akorkovelos/un-clews-gis-work/blob/main/CLEWs%20GIS%20Processing.ipynb), developed by [Alexandros Korkovelos](https://github.com/akorkovelos), under the supervision of [Abhishek Shivakumar](https://github.com/abhishek0208) & Thomas Alfstad. Please note that the original notebook is currently non-functional due to its incompatibility with the latest version of the GAEZ database. Although the original code served as a valuable starting point, it has undergone significant revisions and improvements:\n",
    "\n",
    "- Utilizing high-resolution GAEZ v4 datasets to detail land and water systems.\n",
    "- Implementing customized geographical aggregation and Agglomerative Hierarchical clustering to capture cross-regional interdependencies and streamline computational complexity.\n",
    "- Automating data collection, preparation, processing, and result generation for diverse geographical regions, reducing manual effort and minimizing human errors in WEF assessment tasks.\n",
    "- Generating clewsy-compatible outputs.\n",
    "\n",
    "At the beginning of the script, users can input and tailor the configuration to align with their project's unique requirements. Once the necessary inputs are provided, GeoCLEWs will automatically execute the subsequent steps, including the data collection from FAOSTAT (Food and Agriculture Organization of the United Nation) and retrieving high-resolution raster files from GAEZ v4. Additionally, it implements geographical and spatial clustering to detect cross-regional agro-ecological similarities and generate detailed land and water statistics.\n",
    "\n",
    "This notebook performs six main analytical processes:\n",
    "\n",
    "- **Part 1**: Initialization and configuration.\n",
    "- **Part 2**: FAOSTAT and GAEZ data collection and preparation.\n",
    "- **Part 3**: Generating land cells.\n",
    "- **Part 4**: Geospatial attributes extraction to land cells.\n",
    "- **Part 5**: Spatial clustering using agglomerative hierarchical clustering\n",
    "- **Part 6**: Calculating key summary statistics generate outputs for further use in CLEWs modelling.\n",
    "\n",
    "Each part below is accompanied by a more detailed explanation of the involved processing steps."
   ]
  },
  {
   "cell_type": "markdown",
   "id": "ab101e01-c6bf-4b77-99e5-910e9ae18fa8",
   "metadata": {},
   "source": [
    "# Part 1 : Initialization and Configuration"
   ]
  },
  {
   "cell_type": "markdown",
   "id": "01861b68-0cdf-43e9-9c0b-cecb40a9f10f",
   "metadata": {},
   "source": [
    "# 1.1. Importing Essential Modules \n",
    "\n",
    "To begin, it is necessary to import the required modules/libraries. For more information on the environment setup, please consult the README file. "
   ]
  },
  {
   "cell_type": "code",
   "execution_count": 1,
   "id": "31f824aa-63ba-4997-a0eb-907ec5ff1397",
   "metadata": {},
   "outputs": [],
   "source": [
    "# Importing necessary Python modules or libraries\n",
    "from main import initialize_directories\n",
    "from libs.constants import USER_INPUTS_PATH\n",
    "from libs.collect import retrieve_top_10_crops, standardize_faostat, process_gaez_data\n",
    "from libs.process_land_cells import read_shapefiles, generate_georeference, convert_points_to_polygons, calibrate_area\n",
    "from libs.extract_geospatial_attributes import clip_raster_file, collect_raster_files, extract_raster_values\n",
    "from libs.spatial_clustering import prepare_data_for_clustering\n",
    "from libs.calculation_cluster import calculate\n",
    "\n",
    "# System & Other\n",
    "import yaml\n",
    "import time\n",
    "import pandas as pd\n",
    "start_time = time.time()\n"
   ]
  },
  {
   "cell_type": "markdown",
   "id": "0cab4915-29d8-4108-af4f-ac255d7e8ce2",
   "metadata": {},
   "source": [
    "# 1.2. User Configuration  \n",
    "This is the only part where the user needs to input values. The rest of the process will be automatically run based on the provided inputs. The code is designed with flexibility, allowing users to make changes and take advantage of customized settings at any time during the execution.\n"
   ]
  },
  {
   "cell_type": "code",
   "execution_count": 2,
   "id": "fa940d56-693b-4975-b23a-16ecb9cd5b8f",
   "metadata": {},
   "outputs": [],
   "source": [
    "# Provide specifications for the project\n",
    "with open(f\"{USER_INPUTS_PATH}/config.yaml\", \"r\") as f:\n",
    "    inputs = yaml.load(f, Loader=yaml.FullLoader)\n",
    "        # 3-letter ISO code of the selected country\n",
    "    code = pd.read_csv(\n",
    "        'Data/Country_code.csv')  # More info: https://www.nationsonline.org/oneworld/country_code_list.htm\n",
    "    code_name = code[code['Full_name'] == inputs[\"geographic_scope\"]]\n",
    "    inputs[\"country_name\"] = code_name.iloc[0]['country_code']\n"
   ]
  },
  {
   "cell_type": "markdown",
   "id": "3000898b-3778-4094-865d-c7ceb61adda5",
   "metadata": {},
   "source": [
    "## 1.3. Directory Initialization and Structure\n",
    "\n",
    "For easier replication of the code you may used the following directory structure:\n",
    "\n",
    "* **~root/Data/input**    (a directory where your input data)\n",
    "* **~root/global_raster_input**   (directory for GAEZ raster layers with global coverage.  Precipitation and land cover rasters have already downloaded in the global_raster_input while agro-climatic potential yield, crop water deficit, and crop evapotranspiration with global coverage will be downloaded automatically in the following steps based on user input)\n",
    "* **~root/cropped_raster_input** (a directory for cropped GAEZ global raster data based on administraty boundry of selected country to reduce computational complexity)\n",
    "\n",
    "Results will be store in two automatically generated directories:\n",
    "* **~root/Data/output**   (directory for general output)\n",
    "* **~root/Data/output/summary_stats**   (a directory where the tabular outputs data and graphs are stored)\n",
    "\n",
    "**Note!** In case you decide to use a different structure please revise the code below."
   ]
  },
  {
   "cell_type": "code",
   "execution_count": 3,
   "id": "635483db-29f4-408a-89c2-f007b3896d1f",
   "metadata": {},
   "outputs": [],
   "source": [
    "# Directories\n",
    "initialize_directories(inputs)"
   ]
  },
  {
   "cell_type": "markdown",
   "id": "ed6d6281-1212-4337-b3be-0e4ba3b68ddc",
   "metadata": {},
   "source": [
    "# Part 2 : FAOSTAT and GAEZ Data Collection and Preparation"
   ]
  },
  {
   "cell_type": "markdown",
   "id": "d28ce500-ccda-469d-a1b7-a6a8393388dd",
   "metadata": {},
   "source": [
    "## 2.1. FAOSTAT Collection and Preparation\n",
    "Finding top 10 crops in terms of harvested area from the latest statistical database provided by Food and Agriculture Organization of the United Nations (FAOSTAT)."
   ]
  },
  {
   "cell_type": "markdown",
   "id": "ee3e109f-9191-46e1-9fd9-a982ee2abf7a",
   "metadata": {},
   "source": [
    "### 2.1.1. Retrieve Top 10 Crops"
   ]
  },
  {
   "cell_type": "code",
   "execution_count": 4,
   "id": "450780a9-1857-422e-8252-66d2ceb61481",
   "metadata": {},
   "outputs": [
    {
     "data": {
      "text/markdown": [
       " **Top 5 crops considering harvested area are:** ['Rice', 'Sugar cane', 'Coconuts, in shell', 'Plantains and cooking bananas', 'Maize (corn)']"
      ],
      "text/plain": [
       "<IPython.core.display.Markdown object>"
      ]
     },
     "metadata": {},
     "output_type": "display_data"
    },
    {
     "data": {
      "text/markdown": [
       " **Crops ranked from six to ten in the top 10 FAO dataset are:** ['Ginger, raw', 'Edible roots and tubers with high starch or inulin content, n.e.c., fresh', 'Other tropical fruits, n.e.c.', 'Cassava, fresh', 'Cocoa beans']"
      ],
      "text/plain": [
       "<IPython.core.display.Markdown object>"
      ]
     },
     "metadata": {},
     "output_type": "display_data"
    }
   ],
   "source": "crops_main, crops_others = retrieve_top_10_crops(inputs)"
  },
  {
   "cell_type": "markdown",
   "id": "aa8ad3c5-a0f7-4e57-8e40-528a2a8cb7db",
   "metadata": {},
   "source": [
    "### 2.1.2. FAOSTAT Standardizing"
   ]
  },
  {
   "cell_type": "code",
   "execution_count": 5,
   "id": "ab97ea11-ad00-4abc-bf52-0edc1e14d742",
   "metadata": {},
   "outputs": [
    {
     "data": {
      "text/markdown": [
       " **Based on 3-letter naming, the main crop list from the FAOSTAT is :** ['SGC', 'CON', 'MZE', 'prc']"
      ],
      "text/plain": [
       "<IPython.core.display.Markdown object>"
      ]
     },
     "metadata": {},
     "output_type": "display_data"
    },
    {
     "data": {
      "text/markdown": [
       " **Based on 3-letter naming, additional crop list from the FAOSTAT is :** ['CAS', 'COC']"
      ],
      "text/plain": [
       "<IPython.core.display.Markdown object>"
      ]
     },
     "metadata": {},
     "output_type": "display_data"
    }
   ],
   "source": "crop_name_main, crop_name_other, crop_codes = standardize_faostat(crops_main, crops_others)\n"
  },
  {
   "cell_type": "markdown",
   "id": "d13aae90-70c2-4696-a3aa-88c8b07cad75",
   "metadata": {},
   "source": [
    "## 2.2. GAEZ Data Collection and Preparation\n",
    "\n",
    "GeoCLEWs collects TIFF data from the Global Agro-Ecological Zones data portal for the following variables: agro-climatic potential yield, crop water deficit, and crop evapotranspiration. Precipitation, and land cover have already downloaded in the directory."
   ]
  },
  {
   "cell_type": "code",
   "execution_count": 9,
   "id": "a2e63d3c-1dff-4e2a-b423-1f56508cac7f",
   "metadata": {},
   "outputs": [],
   "source": "process_gaez_data(crop_name_main, crop_name_other, crop_codes, inputs)\n"
  },
  {
   "cell_type": "markdown",
   "id": "f5b006f0-bac1-47f4-912f-da7555be3da8",
   "metadata": {},
   "source": [
    "# Part 3: Generating Land Cells"
   ]
  },
  {
   "cell_type": "markdown",
   "id": "44a1bbef-8a99-4c7b-88c9-34f032db98d1",
   "metadata": {},
   "source": [
    "## 3.1. Generating Georeferenced Point Grid from Shapefile\n",
    "Considering the resolution of GAEZ raster files, it is recommended to set spacing to 0.09 decimal degrees resulting in a detailed land and water analysis."
   ]
  },
  {
   "metadata": {},
   "cell_type": "code",
   "outputs": [],
   "execution_count": 11,
   "source": [
    "#create a GeoDataFrame from the attributes and geometry of the shapefile\n",
    "shapefile_admin_lv, shapefile_admin_0 = read_shapefiles(inputs)"
   ],
   "id": "1e56c728-e25d-4cb8-bc15-f81125ae2186"
  },
  {
   "cell_type": "code",
   "execution_count": 12,
   "id": "40e788c4-8c45-4030-bcd0-8113ed132c62",
   "metadata": {},
   "outputs": [],
   "source": [
    "#Creating point grid\n",
    "grid_points = generate_georeference(shapefile_admin_lv, inputs)"
   ]
  },
  {
   "cell_type": "markdown",
   "id": "41ac422e-63a6-4932-a061-2530de94d482",
   "metadata": {},
   "source": [
    "## 3.2. Converting Points to Polygons"
   ]
  },
  {
   "cell_type": "markdown",
   "id": "da4016d7-6d8f-4094-bca1-84e38ae7d661",
   "metadata": {},
   "source": [
    "A regular grid point is created across the entire area of interest in the previous step. Georeferenced points have unique latitude and longitude. In this step,  square buffer-based polygons are created around each point. This allows further flexibility in the extraction of raster values using stats. The buffered polygon shall split \"equally\" the area between neighbor points; therefore, the buffer used shall be the half of the distance between two neighbor points. This, in turn depends on the location of the AoI on earth and the projection system used. "
   ]
  },
  {
   "cell_type": "markdown",
   "id": "89231fdc-321c-403b-8966-609b0adc4f45",
   "metadata": {},
   "source": [
    "### 3.2.1. Spatial Join\n",
    "Assigning the same administrative region as defined in the GeoDataFrame to the 'cluster' column."
   ]
  },
  {
   "metadata": {},
   "cell_type": "markdown",
   "source": "### 3.2.2. Region Aggregation\n",
   "id": "daa8ec48c7cca279"
  },
  {
   "metadata": {},
   "cell_type": "markdown",
   "source": [
    "### 3.2.3. Generating Polygons\n",
    "Creating Polygons From Georeferenced Clustered Grid Points"
   ],
   "id": "70dd417969023720"
  },
  {
   "cell_type": "code",
   "execution_count": 16,
   "id": "5aa19b18-49e0-4a38-b793-300be8fcc36a",
   "metadata": {},
   "outputs": [
    {
     "data": {
      "text/html": [
       "<div>\n",
       "<style scoped>\n",
       "    .dataframe tbody tr th:only-of-type {\n",
       "        vertical-align: middle;\n",
       "    }\n",
       "\n",
       "    .dataframe tbody tr th {\n",
       "        vertical-align: top;\n",
       "    }\n",
       "\n",
       "    .dataframe thead th {\n",
       "        text-align: right;\n",
       "    }\n",
       "</style>\n",
       "<table border=\"1\" class=\"dataframe\">\n",
       "  <thead>\n",
       "    <tr style=\"text-align: right;\">\n",
       "      <th></th>\n",
       "      <th>geometry</th>\n",
       "      <th>index_right</th>\n",
       "      <th>cluster</th>\n",
       "    </tr>\n",
       "  </thead>\n",
       "  <tbody>\n",
       "    <tr>\n",
       "      <th>0</th>\n",
       "      <td>POINT (-61.29692 5.85677)</td>\n",
       "      <td>0</td>\n",
       "      <td>GUY</td>\n",
       "    </tr>\n",
       "    <tr>\n",
       "      <th>1</th>\n",
       "      <td>POINT (-61.29692 5.94677)</td>\n",
       "      <td>0</td>\n",
       "      <td>GUY</td>\n",
       "    </tr>\n",
       "    <tr>\n",
       "      <th>2</th>\n",
       "      <td>POINT (-61.29692 6.03677)</td>\n",
       "      <td>0</td>\n",
       "      <td>GUY</td>\n",
       "    </tr>\n",
       "  </tbody>\n",
       "</table>\n",
       "</div>"
      ],
      "text/plain": [
       "                    geometry  index_right cluster\n",
       "0  POINT (-61.29692 5.85677)            0     GUY\n",
       "1  POINT (-61.29692 5.94677)            0     GUY\n",
       "2  POINT (-61.29692 6.03677)            0     GUY"
      ]
     },
     "execution_count": 16,
     "metadata": {},
     "output_type": "execute_result"
    }
   ],
   "source": "gdf_clustered = convert_points_to_polygons(shapefile_admin_lv, grid_points, inputs)\n"
  },
  {
   "cell_type": "markdown",
   "id": "a9f9ded7-11d1-44aa-9be6-8f3f1465d527",
   "metadata": {},
   "source": [
    "**Note!** Several features are not classified into a cluster. While points away of the administrative borders will be cut out of the analysis, some points right next to the outer administrative borders might create inconsistency when calculating area. In the following section we are dealing with this problem."
   ]
  },
  {
   "cell_type": "markdown",
   "id": "dffc3ede-0e2d-460e-82bb-35fa64672ec2",
   "metadata": {},
   "source": [
    "## 3.3. Total Area Re-Estimation & Calibration\n",
    "\n",
    "This step estimates and calibrates the area (in square km) based on the area provided by the admin layer used in the analysis (e.g. clipping). "
   ]
  },
  {
   "cell_type": "markdown",
   "id": "74627075-a14c-47e5-a153-96876e3cbc30",
   "metadata": {},
   "source": [
    "### 3.3.1. Area Calibration"
   ]
  },
  {
   "cell_type": "code",
   "execution_count": 21,
   "id": "b46aa733-74e3-40af-9f7e-58086eb1c3ee",
   "metadata": {},
   "outputs": [],
   "source": "calibrate_area(shapefile_admin_0, gdf_clustered, inputs)"
  },
  {
   "cell_type": "code",
   "execution_count": 31,
   "id": "d1e76963-24c3-4ddc-bbf5-7a9ac42c4a61",
   "metadata": {},
   "outputs": [
    {
     "name": "stdout",
     "output_type": "stream",
     "text": [
      "Part 3 complete!\n"
     ]
    }
   ],
   "source": "print (\"Part 3 complete!\")\n"
  },
  {
   "cell_type": "markdown",
   "id": "f2d297dd-d80e-4e4a-b130-323858efc6fc",
   "metadata": {},
   "source": [
    "# Part 4: Geospatial Attributes Extraction to land cells"
   ]
  },
  {
   "cell_type": "markdown",
   "id": "198c7319-6fa2-4a4f-9e6d-88c68e79b611",
   "metadata": {},
   "source": [
    "The functions employed in the fourth part extract values from TIFF-formatted GAEZ raster files, and assign them as attributes to the land cells based on their spatial locations\n"
   ]
  },
  {
   "cell_type": "markdown",
   "id": "cd71548c-4139-4769-9115-655d7ed27063",
   "metadata": {},
   "source": [
    "## 4.1. Clipping GAEZ Raster Files\n",
    "The administrative boundary of the study area is used to clip the GAEZ raster files with global coverage, which leads to a reduction in the computational processing time"
   ]
  },
  {
   "cell_type": "code",
   "execution_count": 32,
   "id": "4ea5157d-2879-4f3e-8677-da9bb10b2c1c",
   "metadata": {
    "tags": []
   },
   "outputs": [],
   "source": "clip_raster_file(shapefile_admin_lv, inputs)"
  },
  {
   "cell_type": "markdown",
   "id": "34230443-3b0c-4e28-941c-5e06a03df6b9",
   "metadata": {},
   "source": "## 4.2. Collecting Raster Files"
  },
  {
   "cell_type": "code",
   "execution_count": 36,
   "id": "05df6feb-f68c-432d-9c29-f3e6b62650ed",
   "metadata": {},
   "outputs": [
    {
     "name": "stdout",
     "output_type": "stream",
     "text": [
      "We have identified 67 continuous raster(s): \n",
      "\n",
      "* MZE cwd Rain-fed Low.tif\n",
      "* CAS yld Rain-fed High.tif\n",
      "* COC evt Rain-fed Low.tif\n",
      "* CON evt Irrigation High.tif\n",
      "* CON evt Rain-fed High.tif\n",
      "* CAS evt Rain-fed High.tif\n",
      "* CON evt Irrigation Low.tif\n",
      "* SGC cwd Rain-fed High.tif\n",
      "* MZE evt Irrigation Low.tif\n",
      "* CAS yld Irrigation High.tif\n",
      "* COC cwd Irrigation Low.tif\n",
      "* COC cwd Irrigation High.tif\n",
      "* SGC evt Irrigation High.tif\n",
      "* CON yld Rain-fed High.tif\n",
      "* MZE cwd Irrigation High.tif\n",
      "* SGC yld Irrigation Low.tif\n",
      "* SGC yld Irrigation High.tif\n",
      "* CON cwd Irrigation High.tif\n",
      "* CAS evt Irrigation High.tif\n",
      "* CAS cwd Rain-fed Low.tif\n",
      "* MZE evt Rain-fed Low.tif\n",
      "* COW yld Irrigation High.tif\n",
      "* MZE cwd Rain-fed High.tif\n",
      "* SGC yld Rain-fed Low.tif\n",
      "* CAS evt Rain-fed Low.tif\n",
      "* TEA yld Rain-fed High.tif\n",
      "* COW yld Rain-fed High.tif\n",
      "* SGC cwd Irrigation Low.tif\n",
      "* CON yld Irrigation High.tif\n",
      "* COC evt Irrigation High.tif\n",
      "* CAS yld Irrigation Low.tif\n",
      "* SGC evt Rain-fed High.tif\n",
      "* CON cwd Rain-fed Low.tif\n",
      "* COC evt Rain-fed High.tif\n",
      "* COC cwd Rain-fed High.tif\n",
      "* precipitation prc.tif\n",
      "* CON cwd Irrigation Low.tif\n",
      "* MZE evt Rain-fed High.tif\n",
      "* CON yld Rain-fed Low.tif\n",
      "* SGC cwd Rain-fed Low.tif\n",
      "* COC yld Rain-fed Low.tif\n",
      "* CON evt Rain-fed Low.tif\n",
      "* CON yld Irrigation Low.tif\n",
      "* SGC evt Rain-fed Low.tif\n",
      "* MZE yld Rain-fed High.tif\n",
      "* COC cwd Rain-fed Low.tif\n",
      "* BEA yld Irrigation High.tif\n",
      "* MZE cwd Irrigation Low.tif\n",
      "* COC yld Irrigation Low.tif\n",
      "* CON cwd Rain-fed High.tif\n",
      "* CAS yld Rain-fed Low.tif\n",
      "* SGC evt Irrigation Low.tif\n",
      "* CAS cwd Irrigation Low.tif\n",
      "* MZE yld Irrigation Low.tif\n",
      "* CAS cwd Rain-fed High.tif\n",
      "* COC yld Rain-fed High.tif\n",
      "* CAS cwd Irrigation High.tif\n",
      "* MZE yld Rain-fed Low.tif\n",
      "* COC evt Irrigation Low.tif\n",
      "* MZE evt Irrigation High.tif\n",
      "* CAS evt Irrigation Low.tif\n",
      "* COC yld Irrigation High.tif\n",
      "* SGC yld Rain-fed High.tif\n",
      "* TEA yld Irrigation High.tif\n",
      "* BEA yld Rain-fed High.tif\n",
      "* MZE yld Irrigation High.tif\n",
      "* SGC cwd Irrigation High.tif\n",
      "\n",
      " We have identified 1 discrete raster(s): \n",
      "\n",
      "* LCType_ncb.tif\n"
     ]
    }
   ],
   "source": "raster_con, raster_dis = collect_raster_files()"
  },
  {
   "cell_type": "markdown",
   "id": "c7e92083-1b69-437a-995a-7385a8a03ad0",
   "metadata": {},
   "source": "## 4.3. Extracting Raster Values"
  },
  {
   "cell_type": "code",
   "execution_count": 42,
   "id": "a247214d-80ec-4a8b-9bba-b2de4b1c9621",
   "metadata": {},
   "outputs": [
    {
     "name": "stdout",
     "output_type": "stream",
     "text": [
      "Part 4 complete!\n"
     ]
    }
   ],
   "source": "extract_raster_values(inputs, raster_con, raster_dis)"
  },
  {
   "cell_type": "markdown",
   "id": "44f9d4dc-73b6-4de0-9ec2-54ce786e60d4",
   "metadata": {
    "tags": []
   },
   "source": [
    "# Part 5: Spatial Clustering\n",
    "\n",
    "The study area is spatially clustered based on similarities in agro-ecological potential yield using the agglomerative hierarchical clustering method "
   ]
  },
  {
   "cell_type": "code",
   "execution_count": 43,
   "id": "dbc30ea8-3660-4a87-a229-82a70452b161",
   "metadata": {},
   "outputs": [
    {
     "data": {
      "text/markdown": [
       " List of regions:['GUY']"
      ],
      "text/plain": [
       "<IPython.core.display.Markdown object>"
      ]
     },
     "metadata": {},
     "output_type": "display_data"
    }
   ],
   "source": "land_cell, region_info = prepare_data_for_clustering(inputs)"
  },
  {
   "cell_type": "markdown",
   "id": "8dc706fd-0f12-48f9-be4c-c27446a56748",
   "metadata": {
    "tags": []
   },
   "source": [
    "# Part 6: Statistics Calculation\n",
    "\n",
    "This part calculates summary statistics for the generated clusters. There outputs include:\n",
    "\n",
    "* Tabular summaries (.csv format) grouped by cluster"
   ]
  },
  {
   "cell_type": "markdown",
   "id": "99dcb6ff-a7ff-466f-bf9e-6d47ebefa199",
   "metadata": {},
   "source": [
    "## 6.1. Calculating Cluster Summaries"
   ]
  },
  {
   "cell_type": "code",
   "execution_count": 64,
   "id": "cdef67bb-0398-45fa-b7bf-5c36855fba87",
   "metadata": {},
   "outputs": [
    {
     "name": "stdout",
     "output_type": "stream",
     "text": [
      "Part 6 - and with that the analysis - completed!\n",
      "Total elapsed time: 00:13:10\n"
     ]
    }
   ],
   "source": "calculate(land_cell, crop_name_other, region_info, inputs)\n"
  },
  {
   "cell_type": "code",
   "execution_count": null,
   "id": "ec747918-7b52-456a-8539-00fc3d9c93bb",
   "metadata": {},
   "outputs": [],
   "source": []
  },
  {
   "cell_type": "code",
   "execution_count": null,
   "id": "ef9cb636-67fe-4733-84f0-27baf0247055",
   "metadata": {},
   "outputs": [],
   "source": []
  },
  {
   "cell_type": "code",
   "execution_count": null,
   "id": "95f50ed9-1feb-4e0b-896e-f1445d58e115",
   "metadata": {},
   "outputs": [],
   "source": []
  },
  {
   "cell_type": "code",
   "execution_count": null,
   "id": "e36c6d02-7ae1-47dc-9c7a-bcc55bcd8a5f",
   "metadata": {},
   "outputs": [],
   "source": []
  },
  {
   "cell_type": "code",
   "execution_count": null,
   "id": "18bcf264-b689-46ee-b056-ff669660e653",
   "metadata": {},
   "outputs": [],
   "source": []
  },
  {
   "cell_type": "code",
   "execution_count": null,
   "id": "4ba55369-d9fb-4f89-bd73-f52ac4903da4",
   "metadata": {},
   "outputs": [],
   "source": []
  },
  {
   "cell_type": "code",
   "execution_count": null,
   "id": "e2931401-d2a9-4cdb-9747-1bb6263fe7e2",
   "metadata": {},
   "outputs": [],
   "source": []
  }
 ],
 "metadata": {
  "kernelspec": {
   "display_name": "Python 3 (ipykernel)",
   "language": "python",
   "name": "python3"
  },
  "language_info": {
   "codemirror_mode": {
    "name": "ipython",
    "version": 3
   },
   "file_extension": ".py",
   "mimetype": "text/x-python",
   "name": "python",
   "nbconvert_exporter": "python",
   "pygments_lexer": "ipython3",
   "version": "3.13.5"
  }
 },
 "nbformat": 4,
 "nbformat_minor": 5
}
